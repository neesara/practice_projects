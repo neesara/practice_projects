{
 "cells": [
  {
   "cell_type": "markdown",
   "metadata": {},
   "source": [
    "# My python learning"
   ]
  },
  {
   "cell_type": "markdown",
   "metadata": {},
   "source": [
    "Scope :"
   ]
  },
  {
   "cell_type": "code",
   "execution_count": 1,
   "metadata": {},
   "outputs": [
    {
     "name": "stdout",
     "output_type": "stream",
     "text": [
      "3\n",
      "5\n"
     ]
    }
   ],
   "source": [
    "b=5\n",
    "\n",
    "def my_test():\n",
    "    b=3\n",
    "    print(b)\n",
    "\n",
    "my_test()\n",
    "print(b)"
   ]
  },
  {
   "cell_type": "markdown",
   "metadata": {},
   "source": [
    "Interleave two strings :"
   ]
  },
  {
   "cell_type": "code",
   "execution_count": 2,
   "metadata": {},
   "outputs": [
    {
     "name": "stdout",
     "output_type": "stream",
     "text": [
      "Enter string 1 :abcd\n",
      "Enter string 2 :123456\n",
      "a1b2c3d456\n"
     ]
    }
   ],
   "source": [
    "def interleave(s1:str, s2:str) -> str :\n",
    "    s3 = \"\"\n",
    "    j = 0\n",
    "    for i in s1:\n",
    "        if j < len(s2):\n",
    "            s3 = s3 + i\n",
    "            s3 = s3 + s2[j]\n",
    "            j += 1\n",
    "        else:\n",
    "            s3 = s3 + i\n",
    "    if j < len(s2):\n",
    "        for i in range(j,len(s2)):\n",
    "            s3 = s3 + s2[i]\n",
    "    return s3\n",
    "\n",
    "s1 = input(\"Enter string 1 :\")\n",
    "s2 = input(\"Enter string 2 :\")\n",
    "\n",
    "print(interleave(s1,s2))"
   ]
  },
  {
   "cell_type": "markdown",
   "metadata": {},
   "source": [
    "String functions :"
   ]
  },
  {
   "cell_type": "code",
   "execution_count": 13,
   "metadata": {},
   "outputs": [
    {
     "name": "stdout",
     "output_type": "stream",
     "text": [
      "Adddjdsddgsdhsdgsjsds\n",
      "ADDDjdsdDGSDHSDGSJSDS\n",
      "ADDDJDSDDGSDHSDGSJSDS\n",
      "adddjdsddgsdhsdgsjsds\n"
     ]
    }
   ],
   "source": [
    "my_str = \"adddJDSDdgsdhsdgsjsds\"\n",
    "str1 = my_str.capitalize()\n",
    "print(str1)\n",
    "str2 = my_str.swapcase()\n",
    "print(str2)\n",
    "str3 = my_str.upper()\n",
    "print(str3)\n",
    "str4 = my_str.lower()\n",
    "print(str4)"
   ]
  },
  {
   "cell_type": "code",
   "execution_count": 17,
   "metadata": {},
   "outputs": [
    {
     "name": "stdout",
     "output_type": "stream",
     "text": [
      "[5, 4, 3, 1] None\n"
     ]
    }
   ],
   "source": [
    "my_list = [1,3,4,5]\n",
    "my_list2 = my_list.reverse()\n",
    "print(my_list,my_list2)\n"
   ]
  },
  {
   "cell_type": "code",
   "execution_count": 19,
   "metadata": {},
   "outputs": [
    {
     "name": "stdout",
     "output_type": "stream",
     "text": [
      "[1, 2, 3, 4, 5] [1, 2, 3, 4]\n"
     ]
    }
   ],
   "source": [
    "my_list = [1,2,3,4]\n",
    "my_list2 = my_list\n",
    "my_list = [1,2,3,4,5]\n",
    "print(my_list,my_list2)"
   ]
  },
  {
   "cell_type": "code",
   "execution_count": 20,
   "metadata": {},
   "outputs": [
    {
     "data": {
      "text/plain": [
       "True"
      ]
     },
     "execution_count": 20,
     "metadata": {},
     "output_type": "execute_result"
    }
   ],
   "source": [
    "a = 10\n",
    "b = 10\n",
    "a is b"
   ]
  },
  {
   "cell_type": "code",
   "execution_count": 21,
   "metadata": {},
   "outputs": [
    {
     "data": {
      "text/plain": [
       "False"
      ]
     },
     "execution_count": 21,
     "metadata": {},
     "output_type": "execute_result"
    }
   ],
   "source": [
    "a = [1, 2, 3, 4]\n",
    "b = [1, 2, 3, 4]\n",
    "a is b"
   ]
  },
  {
   "cell_type": "markdown",
   "metadata": {},
   "source": [
    "String is immutable while list is not"
   ]
  },
  {
   "cell_type": "code",
   "execution_count": 2,
   "metadata": {},
   "outputs": [
    {
     "ename": "TypeError",
     "evalue": "'str' object does not support item assignment",
     "output_type": "error",
     "traceback": [
      "\u001b[1;31m---------------------------------------------------------------------------\u001b[0m",
      "\u001b[1;31mTypeError\u001b[0m                                 Traceback (most recent call last)",
      "\u001b[1;32m<ipython-input-2-ad3ee1087181>\u001b[0m in \u001b[0;36m<module>\u001b[1;34m\u001b[0m\n\u001b[0;32m      1\u001b[0m \u001b[0ma\u001b[0m \u001b[1;33m=\u001b[0m \u001b[1;34m\"Hi Neethu\"\u001b[0m\u001b[1;33m\u001b[0m\u001b[1;33m\u001b[0m\u001b[0m\n\u001b[1;32m----> 2\u001b[1;33m \u001b[0ma\u001b[0m\u001b[1;33m[\u001b[0m\u001b[1;36m0\u001b[0m\u001b[1;33m]\u001b[0m \u001b[1;33m=\u001b[0m \u001b[1;34m'h'\u001b[0m\u001b[1;33m\u001b[0m\u001b[1;33m\u001b[0m\u001b[0m\n\u001b[0m",
      "\u001b[1;31mTypeError\u001b[0m: 'str' object does not support item assignment"
     ]
    }
   ],
   "source": [
    "a = \"Hi Neethu\"\n",
    "a[0] = 'h'"
   ]
  },
  {
   "cell_type": "code",
   "execution_count": 4,
   "metadata": {},
   "outputs": [
    {
     "data": {
      "text/plain": [
       "[5, 2, 3, 4]"
      ]
     },
     "execution_count": 4,
     "metadata": {},
     "output_type": "execute_result"
    }
   ],
   "source": [
    "a = [1,2,3,4]\n",
    "a[0] = 5\n",
    "a"
   ]
  },
  {
   "cell_type": "code",
   "execution_count": 6,
   "metadata": {},
   "outputs": [],
   "source": [
    "a = 256\n",
    "a = chr(a)"
   ]
  },
  {
   "cell_type": "code",
   "execution_count": 3,
   "metadata": {},
   "outputs": [
    {
     "name": "stdout",
     "output_type": "stream",
     "text": [
      "\u0005\n"
     ]
    }
   ],
   "source": [
    "print(a)"
   ]
  },
  {
   "cell_type": "code",
   "execution_count": 7,
   "metadata": {},
   "outputs": [],
   "source": [
    "a=\"Hello\""
   ]
  },
  {
   "cell_type": "code",
   "execution_count": 24,
   "metadata": {},
   "outputs": [
    {
     "name": "stdout",
     "output_type": "stream",
     "text": [
      "Hello\n"
     ]
    },
    {
     "data": {
      "text/plain": [
       "'ello'"
      ]
     },
     "execution_count": 24,
     "metadata": {},
     "output_type": "execute_result"
    }
   ],
   "source": [
    "print(a)\n",
    "a[1:]"
   ]
  },
  {
   "cell_type": "code",
   "execution_count": 26,
   "metadata": {},
   "outputs": [
    {
     "data": {
      "text/plain": [
       "'ll'"
      ]
     },
     "execution_count": 26,
     "metadata": {},
     "output_type": "execute_result"
    }
   ],
   "source": [
    "x = slice(2,4)\n",
    "a[x]"
   ]
  },
  {
   "cell_type": "markdown",
   "metadata": {},
   "source": [
    "String reversal :"
   ]
  },
  {
   "cell_type": "code",
   "execution_count": 28,
   "metadata": {},
   "outputs": [
    {
     "data": {
      "text/plain": [
       "'HGFEDCBA'"
      ]
     },
     "execution_count": 28,
     "metadata": {},
     "output_type": "execute_result"
    }
   ],
   "source": [
    "a = \"ABCDEFGH\"\n",
    "a[::-1]"
   ]
  },
  {
   "cell_type": "code",
   "execution_count": 31,
   "metadata": {},
   "outputs": [],
   "source": [
    "import os\n",
    "out = os.system(\"dir\")"
   ]
  },
  {
   "cell_type": "code",
   "execution_count": 32,
   "metadata": {},
   "outputs": [
    {
     "data": {
      "text/plain": [
       "0"
      ]
     },
     "execution_count": 32,
     "metadata": {},
     "output_type": "execute_result"
    }
   ],
   "source": [
    "out"
   ]
  },
  {
   "cell_type": "code",
   "execution_count": 11,
   "metadata": {},
   "outputs": [
    {
     "name": "stdout",
     "output_type": "stream",
     "text": [
      "['/* Program to count the number of bits with value 1 in given number*/\\n', '#include<stdio.h>\\n', '\\n', 'int main()\\n', '{\\n', '\\n', 'int i,num,n,comp=1,new,count=0;\\n', '\\n', 'scanf(\"%d\",&n);\\n', '\\n', 'num=8*sizeof(int);\\n', 'for(i=0;i<num;i++)\\n', '{\\n', ' new=comp & n;\\n', ' if(new==1)\\n', '    count++;\\n', ' n=n >> 1; \\n', '}\\n', '\\n', 'printf(\"%d\",count);\\n', '\\n', '}\\n']\n"
     ]
    }
   ],
   "source": [
    "with open('count_bits.c','r') as f:\n",
    "    data = f.readlines()\n",
    "print(data)"
   ]
  },
  {
   "cell_type": "code",
   "execution_count": 6,
   "metadata": {},
   "outputs": [
    {
     "name": "stdout",
     "output_type": "stream",
     "text": [
      "Error name 'tiel' is not defined\n"
     ]
    }
   ],
   "source": [
    "title = 'Hello'\n",
    "try:\n",
    "    print(tiel)\n",
    "except Exception as e:\n",
    "    print(\"Error\",e)"
   ]
  },
  {
   "cell_type": "code",
   "execution_count": 3,
   "metadata": {},
   "outputs": [
    {
     "name": "stdout",
     "output_type": "stream",
     "text": [
      "/* Program to count the number of bits with value 1 in given number*/\n",
      "\n",
      "#include<stdio.h>\n",
      "\n",
      "\n",
      "\n",
      "int main()\n",
      "\n",
      "{\n",
      "\n",
      "\n",
      "\n",
      "int i,num,n,comp=1,new,count=0;\n",
      "\n",
      "\n",
      "\n",
      "scanf(\"%d\",&n);\n",
      "\n",
      "\n",
      "\n"
     ]
    }
   ],
   "source": [
    "f = open('count_bits.c','r')\n",
    "for i in range(10):\n",
    "    print(f.readline())\n",
    "f.close()\n",
    "    "
   ]
  },
  {
   "cell_type": "markdown",
   "metadata": {},
   "source": [
    "Monkey patching :"
   ]
  },
  {
   "cell_type": "code",
   "execution_count": 3,
   "metadata": {},
   "outputs": [
    {
     "name": "stdout",
     "output_type": "stream",
     "text": [
      "Replace expensive ? Enter y or nn\n",
      "I am expensive\n"
     ]
    }
   ],
   "source": [
    "def my_func1():\n",
    "    print(\"I am expensive\")\n",
    "\n",
    "def my_func2():\n",
    "    print(\"I am not expensive\")\n",
    "    \n",
    "value = input(\"Replace expensive ? Enter y or n\")\n",
    "\n",
    "if value == 'y':\n",
    "    my_func1 = my_func2\n",
    "\n",
    "my_func1()\n",
    "    \n",
    "\n",
    "\n",
    "\n"
   ]
  },
  {
   "cell_type": "code",
   "execution_count": 1,
   "metadata": {},
   "outputs": [
    {
     "name": "stdout",
     "output_type": "stream",
     "text": [
      "After local assignment: test spam\n",
      "After nonlocal assignment: nonlocal spam\n",
      "After global assignment: nonlocal spam\n",
      "In global scope: global spam\n"
     ]
    }
   ],
   "source": [
    "def scope_test():\n",
    "    def do_local():\n",
    "        spam = \"local spam\"\n",
    "\n",
    "    def do_nonlocal():\n",
    "        nonlocal spam\n",
    "        spam = \"nonlocal spam\"\n",
    "\n",
    "    def do_global():\n",
    "        global spam\n",
    "        spam = \"global spam\"\n",
    "\n",
    "    spam = \"test spam\"\n",
    "    do_local()\n",
    "    print(\"After local assignment:\", spam)\n",
    "    do_nonlocal()\n",
    "    print(\"After nonlocal assignment:\", spam)\n",
    "    do_global()\n",
    "    print(\"After global assignment:\", spam)\n",
    "\n",
    "scope_test()\n",
    "print(\"In global scope:\", spam)"
   ]
  },
  {
   "cell_type": "code",
   "execution_count": 11,
   "metadata": {},
   "outputs": [
    {
     "name": "stdout",
     "output_type": "stream",
     "text": [
      "The data is Hello 5\n",
      "Neethu\n",
      "Neethu\n",
      "I am static\n",
      "I am static\n"
     ]
    }
   ],
   "source": [
    "class NeeData:\n",
    "    my_name = \"Neethu\"\n",
    "    def __init__(self,my_data1,my_data2):\n",
    "        self.my_data1 = my_data1\n",
    "        self.my_data2 = my_data2\n",
    "    def print_data(self):\n",
    "        print(\"The data is\" ,self.my_data1 ,self.my_data2)\n",
    "        \n",
    "    @classmethod\n",
    "    def hello_world(cls):\n",
    "        print(cls.my_name)\n",
    "        \n",
    "    @staticmethod\n",
    "    def my_static():\n",
    "        print(\"I am static\")\n",
    "        \n",
    "\n",
    "n1 = NeeData(\"Hello\",5)\n",
    "n1.print_data()\n",
    "NeeData.hello_world()\n",
    "n1.hello_world()\n",
    "NeeData.my_static()\n",
    "n1.my_static()\n",
    "        "
   ]
  },
  {
   "cell_type": "code",
   "execution_count": 1,
   "metadata": {},
   "outputs": [
    {
     "name": "stdout",
     "output_type": "stream",
     "text": [
      "[1, 2, 3] ['a', 'b', 'c'] ['age', 'name', 15]\n"
     ]
    }
   ],
   "source": [
    "l1 = [1,2,3]\n",
    "l2 = ['a','b','c']\n",
    "l3 = ['age', 'name', 15]\n",
    "print(l1,l2,l3)"
   ]
  },
  {
   "cell_type": "code",
   "execution_count": 2,
   "metadata": {},
   "outputs": [],
   "source": [
    "l4 = [l1,l2,l3]"
   ]
  },
  {
   "cell_type": "code",
   "execution_count": 3,
   "metadata": {},
   "outputs": [
    {
     "data": {
      "text/plain": [
       "[[1, 2, 3], ['a', 'b', 'c'], ['age', 'name', 15]]"
      ]
     },
     "execution_count": 3,
     "metadata": {},
     "output_type": "execute_result"
    }
   ],
   "source": [
    "l4"
   ]
  },
  {
   "cell_type": "code",
   "execution_count": 5,
   "metadata": {},
   "outputs": [],
   "source": [
    "import copy\n",
    "l5 = copy.copy(l4)"
   ]
  },
  {
   "cell_type": "code",
   "execution_count": 6,
   "metadata": {},
   "outputs": [
    {
     "data": {
      "text/plain": [
       "[[1, 2, 3], ['a', 'b', 'c'], ['age', 'name', 15]]"
      ]
     },
     "execution_count": 6,
     "metadata": {},
     "output_type": "execute_result"
    }
   ],
   "source": [
    "l5"
   ]
  },
  {
   "cell_type": "code",
   "execution_count": 7,
   "metadata": {},
   "outputs": [],
   "source": [
    "l1.append(5)"
   ]
  },
  {
   "cell_type": "code",
   "execution_count": 8,
   "metadata": {},
   "outputs": [
    {
     "data": {
      "text/plain": [
       "[[1, 2, 3, 5], ['a', 'b', 'c'], ['age', 'name', 15]]"
      ]
     },
     "execution_count": 8,
     "metadata": {},
     "output_type": "execute_result"
    }
   ],
   "source": [
    "l5"
   ]
  },
  {
   "cell_type": "code",
   "execution_count": 10,
   "metadata": {},
   "outputs": [],
   "source": [
    "l6 = copy.deepcopy(l4)"
   ]
  },
  {
   "cell_type": "code",
   "execution_count": 11,
   "metadata": {},
   "outputs": [
    {
     "data": {
      "text/plain": [
       "[[1, 2, 3, 5], ['a', 'b', 'c'], ['age', 'name', 15]]"
      ]
     },
     "execution_count": 11,
     "metadata": {},
     "output_type": "execute_result"
    }
   ],
   "source": [
    "l6"
   ]
  },
  {
   "cell_type": "code",
   "execution_count": 16,
   "metadata": {},
   "outputs": [],
   "source": [
    "l1.append(6)"
   ]
  },
  {
   "cell_type": "code",
   "execution_count": 17,
   "metadata": {},
   "outputs": [
    {
     "name": "stdout",
     "output_type": "stream",
     "text": [
      "[1, 2, 3, 5, 6]\n"
     ]
    }
   ],
   "source": [
    "print(l1)"
   ]
  },
  {
   "cell_type": "code",
   "execution_count": 18,
   "metadata": {},
   "outputs": [
    {
     "name": "stdout",
     "output_type": "stream",
     "text": [
      "[[1, 2, 3, 5, 6], ['a', 'b', 'c'], ['age', 'name', 15]] [[1, 2, 3, 5], ['a', 'b', 'c'], ['age', 'name', 15]]\n"
     ]
    }
   ],
   "source": [
    "print(l5,l6)"
   ]
  },
  {
   "cell_type": "code",
   "execution_count": 1,
   "metadata": {},
   "outputs": [
    {
     "data": {
      "text/plain": [
       "[2, 4, 5, 6, 7, 17, 18, 18, 19]"
      ]
     },
     "execution_count": 1,
     "metadata": {},
     "output_type": "execute_result"
    }
   ],
   "source": [
    "a = [17,18,19,2,4,5,6,7,18]\n",
    "sorted(a)"
   ]
  },
  {
   "cell_type": "code",
   "execution_count": 2,
   "metadata": {},
   "outputs": [
    {
     "data": {
      "text/plain": [
       "[17, 18, 19, 2, 4, 5, 6, 7, 18]"
      ]
     },
     "execution_count": 2,
     "metadata": {},
     "output_type": "execute_result"
    }
   ],
   "source": [
    "a"
   ]
  },
  {
   "cell_type": "code",
   "execution_count": 3,
   "metadata": {},
   "outputs": [],
   "source": [
    "b = sorted(a)"
   ]
  },
  {
   "cell_type": "code",
   "execution_count": 4,
   "metadata": {},
   "outputs": [
    {
     "name": "stdout",
     "output_type": "stream",
     "text": [
      "[17, 18, 19, 2, 4, 5, 6, 7, 18] [2, 4, 5, 6, 7, 17, 18, 18, 19]\n"
     ]
    }
   ],
   "source": [
    "print(a,b)"
   ]
  },
  {
   "cell_type": "code",
   "execution_count": 7,
   "metadata": {},
   "outputs": [
    {
     "name": "stdout",
     "output_type": "stream",
     "text": [
      "['a', 'd', 'd', 'd', 'd', 'e', 'e', 'e', 'e', 'f', 'f', 'j', 's', 'w', 'w', 'w', 'y']\n"
     ]
    }
   ],
   "source": [
    "str1 = \"asjddefefweydwdwe\"\n",
    "str2 = sorted(str1)\n",
    "print(str2)"
   ]
  },
  {
   "cell_type": "code",
   "execution_count": 12,
   "metadata": {},
   "outputs": [
    {
     "name": "stdout",
     "output_type": "stream",
     "text": [
      "['a', 'd', 'd', 'd', 'd', 'e', 'e', 'e', 'e', 'f', 'f', 'j', 's', 'w', 'w', 'w', 'y']\n"
     ]
    }
   ],
   "source": [
    "print(s)"
   ]
  },
  {
   "cell_type": "code",
   "execution_count": null,
   "metadata": {},
   "outputs": [],
   "source": [
    "import pickle\n",
    "class TodoList:\n",
    "    def __init__(self):\n",
    "        self.my_todo = {}\n",
    "    def add_item(self, task:str, state:int):\n",
    "        self.my_todo.update({task : state})\n",
    "    def print_tasks(self):\n",
    "        status_list = [\"Todo\", \"In progress\", \"Done\"]\n",
    "        i = 0\n",
    "        print(\"Here is your list of tasks :\")\n",
    "        for key,value in self.my_todo.items():\n",
    "            print(\"%d) %s -> %s\"%(i,key,status_list[value]))\n",
    "            i += 1\n",
    "    def change_status(self, task:str, state:int):\n",
    "        self.my_todo[task] = state\n",
    "    def delete_task(self, task:str):\n",
    "        del self.my_todo[task]                \n",
    "        \n",
    "todo1 = TodoList()\n",
    "try :\n",
    "    f = open(\"my_todo.dat\",\"rb\")\n",
    "    todo1.my_todo = pickle.load(f)\n",
    "except Exception as e :\n",
    "    print(e)\n",
    "\n",
    "while True:\n",
    "    try :\n",
    "        todo1.print_tasks()\n",
    "        print(\"\\n1. Add task \\n\"\\\n",
    "              \"2. Update status\\n\"\\\n",
    "              \"3. Delete a task\\n\" \\\n",
    "              \"4. Exit\" \\\n",
    "             )\n",
    "        choice = int(input(\"Enter your choice :\"))\n",
    "        if choice == 1 :\n",
    "            print(\"Enter the task name<space>status\\n\"\\\n",
    "                  \"for status enter 0, 1, 2 :\\n\"\\\n",
    "                  \"0 - Todo, 1 - In progress, 2 - done\")\n",
    "            task_details = input(\"Enter the task and status separated by space :\")\n",
    "            temp_list = task_details.split()\n",
    "            todo1.add_item(temp_list[0], int(temp_list[1]))\n",
    "        elif choice == 2 :\n",
    "            print(\"Enter the task name<space>status\\n\"\\\n",
    "                    \"for status enter 0, 1, 2 :\\n\"\\\n",
    "                    \"0 - Todo, 1 - In progress, 2 - done\")\n",
    "            task_details = input(\"Enter the task and new status :\")\n",
    "            temp_list = task_details.split()\n",
    "            todo1.change_status(temp_list[0], int(temp_list[1]))\n",
    "        elif choice == 3 :\n",
    "            task = input(\"Enter the task :\")\n",
    "            todo1.delete_task(task)      \n",
    "        elif choice == 4 :\n",
    "            f = open(\"my_todo.dat\",\"ab\")\n",
    "            pickle.dump(todo1.my_todo,f)\n",
    "            break\n",
    "        else :\n",
    "            print(\"Invalid choice enter a value between 1 to 3\")\n",
    "    except Exception as e:\n",
    "            print(\"Error in entry :\",e)\n",
    "        "
   ]
  },
  {
   "cell_type": "markdown",
   "metadata": {},
   "source": [
    "#### want to tell more on python dictionary"
   ]
  },
  {
   "cell_type": "code",
   "execution_count": 1,
   "metadata": {},
   "outputs": [],
   "source": [
    "a = {1:234, 3:3564, 2:4534, 4:5345}"
   ]
  },
  {
   "cell_type": "code",
   "execution_count": 2,
   "metadata": {},
   "outputs": [
    {
     "name": "stdout",
     "output_type": "stream",
     "text": [
      "{1: 234, 3: 3564, 2: 4534, 4: 5345}\n"
     ]
    }
   ],
   "source": [
    "print(a)"
   ]
  },
  {
   "cell_type": "code",
   "execution_count": 3,
   "metadata": {},
   "outputs": [
    {
     "data": {
      "text/plain": [
       "234"
      ]
     },
     "execution_count": 3,
     "metadata": {},
     "output_type": "execute_result"
    }
   ],
   "source": [
    "a[1]"
   ]
  },
  {
   "cell_type": "code",
   "execution_count": 5,
   "metadata": {},
   "outputs": [
    {
     "data": {
      "text/plain": [
       "4534"
      ]
     },
     "execution_count": 5,
     "metadata": {},
     "output_type": "execute_result"
    }
   ],
   "source": [
    "a[2]"
   ]
  },
  {
   "cell_type": "code",
   "execution_count": 6,
   "metadata": {},
   "outputs": [],
   "source": [
    "a[3] = 222"
   ]
  },
  {
   "cell_type": "code",
   "execution_count": 7,
   "metadata": {},
   "outputs": [
    {
     "data": {
      "text/plain": [
       "{1: 234, 3: 222, 2: 4534, 4: 5345}"
      ]
     },
     "execution_count": 7,
     "metadata": {},
     "output_type": "execute_result"
    }
   ],
   "source": [
    "a"
   ]
  },
  {
   "cell_type": "code",
   "execution_count": 8,
   "metadata": {},
   "outputs": [
    {
     "data": {
      "text/plain": [
       "222"
      ]
     },
     "execution_count": 8,
     "metadata": {},
     "output_type": "execute_result"
    }
   ],
   "source": [
    "a.pop(3)"
   ]
  },
  {
   "cell_type": "code",
   "execution_count": 9,
   "metadata": {},
   "outputs": [
    {
     "data": {
      "text/plain": [
       "{1: 234, 2: 4534, 4: 5345}"
      ]
     },
     "execution_count": 9,
     "metadata": {},
     "output_type": "execute_result"
    }
   ],
   "source": [
    "a"
   ]
  },
  {
   "cell_type": "code",
   "execution_count": 10,
   "metadata": {},
   "outputs": [
    {
     "data": {
      "text/plain": [
       "(4, 5345)"
      ]
     },
     "execution_count": 10,
     "metadata": {},
     "output_type": "execute_result"
    }
   ],
   "source": [
    "a.popitem()"
   ]
  },
  {
   "cell_type": "code",
   "execution_count": 11,
   "metadata": {},
   "outputs": [],
   "source": [
    "a.update({5:54364, 6:3743})"
   ]
  },
  {
   "cell_type": "code",
   "execution_count": 12,
   "metadata": {},
   "outputs": [
    {
     "data": {
      "text/plain": [
       "{1: 234, 2: 4534, 5: 54364, 6: 3743}"
      ]
     },
     "execution_count": 12,
     "metadata": {},
     "output_type": "execute_result"
    }
   ],
   "source": [
    "a"
   ]
  },
  {
   "cell_type": "code",
   "execution_count": 14,
   "metadata": {},
   "outputs": [
    {
     "data": {
      "text/plain": [
       "dict_items([(1, 234), (2, 4534), (5, 54364), (6, 3743)])"
      ]
     },
     "execution_count": 14,
     "metadata": {},
     "output_type": "execute_result"
    }
   ],
   "source": [
    "a.items()"
   ]
  },
  {
   "cell_type": "code",
   "execution_count": 17,
   "metadata": {},
   "outputs": [
    {
     "name": "stdout",
     "output_type": "stream",
     "text": [
      "1\n",
      "2\n",
      "5\n",
      "6\n"
     ]
    }
   ],
   "source": [
    "for i in a.keys():\n",
    "    print(i)"
   ]
  },
  {
   "cell_type": "code",
   "execution_count": 17,
   "metadata": {},
   "outputs": [
    {
     "name": "stdout",
     "output_type": "stream",
     "text": [
      "I want to get decorated 3\n",
      "I am decorated\n"
     ]
    }
   ],
   "source": [
    "def wrap(func):\n",
    "    def inner_func(*args,**kwargs):\n",
    "        func(*args,**kwargs)\n",
    "        print(\"I am decorated\")\n",
    "    return(inner_func)\n",
    "\n",
    "@wrap\n",
    "def my_func(a,b):\n",
    "    print(\"I want to get decorated\",a+b)\n",
    "\n",
    "my_func(1,2)\n",
    "    "
   ]
  },
  {
   "cell_type": "code",
   "execution_count": 12,
   "metadata": {},
   "outputs": [
    {
     "name": "stdout",
     "output_type": "stream",
     "text": [
      "['1', '2', '3', '4', '5']\n",
      "['a', 'b', 'c', 'd', 'e']\n"
     ]
    }
   ],
   "source": [
    "my_str = \"ba321cd4e5\"\n",
    "my_nums = []\n",
    "my_letters = []\n",
    "for i in my_str:\n",
    "    #print(i)\n",
    "    if i.isdigit():\n",
    "        my_nums.append(i)\n",
    "    else:\n",
    "        my_letters.append(i)\n",
    "my_nums.sort()\n",
    "my_letters.sort()\n",
    "print(my_nums)\n",
    "print(my_letters)"
   ]
  },
  {
   "cell_type": "code",
   "execution_count": 4,
   "metadata": {},
   "outputs": [],
   "source": [
    "Users =[\n",
    "{\n",
    "\"id\": 233,\n",
    "\"first_name\" : \"Joy\",\n",
    "\"last_name\" : \"deep\",\n",
    "\"email\" : \"Joy@gmail.com\",\n",
    "\"subjects\": [\"math\"],\n",
    "\"age\": 20\n",
    "},\n",
    "{\n",
    "\"id\": 234,\n",
    "\"first_name\" : \"Ram\",\n",
    "\"last_name\" : \"singh\",\n",
    "\"email\" : \"Joi@hashedin.com\",\n",
    "\"subjects\": [\"math\", \"art\"],\n",
    "\"age\": 25\n",
    "},\n",
    "{\n",
    "\"id\": 235,\n",
    "\"first_name\" : \"Jodt\",\n",
    "\"last_name\" : \"deep\",\n",
    "\"email\" : \"max@gmail.com\",\n",
    "\"subjects\": [\"art\", \"music\"],\n",
    "\"age\": 27\n",
    "},\n",
    "{\n",
    "\"id\": 236,\n",
    "\"first_name\" : \"max\",\n",
    "\"last_name\" : \"singh\",\n",
    "\"email\" : \"himan@hashedin.com\",\n",
    "\"subjects\": [\"bio\", \"music\"],\n",
    "\"age\": 35\n",
    "}\n",
    "]"
   ]
  },
  {
   "cell_type": "code",
   "execution_count": 16,
   "metadata": {},
   "outputs": [
    {
     "data": {
      "text/plain": [
       "['Joy', 'Jodt']"
      ]
     },
     "execution_count": 16,
     "metadata": {},
     "output_type": "execute_result"
    }
   ],
   "source": [
    "[ i[\"first_name\"] for i in Users if i[\"first_name\"].startswith(\"Jo\") ]\n",
    "        "
   ]
  },
  {
   "cell_type": "code",
   "execution_count": 10,
   "metadata": {
    "scrolled": true
   },
   "outputs": [
    {
     "name": "stdout",
     "output_type": "stream",
     "text": [
      "['Joy', 'Jodt']\n"
     ]
    }
   ],
   "source": [
    "new_user=[]\n",
    "for i in Users:\n",
    "    if i[\"first_name\"].startswith(\"Jo\"):\n",
    "         new_user.append(i[\"first_name\"])\n",
    "print(new_user)"
   ]
  },
  {
   "cell_type": "markdown",
   "metadata": {},
   "source": [
    " Q. Find the list of all users whose subjects are either “math” or “Art”?"
   ]
  },
  {
   "cell_type": "code",
   "execution_count": 15,
   "metadata": {},
   "outputs": [
    {
     "data": {
      "text/plain": [
       "[{'id': 233,\n",
       "  'first_name': 'Joy',\n",
       "  'last_name': 'deep',\n",
       "  'email': 'Joy@gmail.com',\n",
       "  'subjects': ['math'],\n",
       "  'age': 20},\n",
       " {'id': 234,\n",
       "  'first_name': 'Ram',\n",
       "  'last_name': 'singh',\n",
       "  'email': 'Joi@hashedin.com',\n",
       "  'subjects': ['math', 'art'],\n",
       "  'age': 25},\n",
       " {'id': 235,\n",
       "  'first_name': 'Jodt',\n",
       "  'last_name': 'deep',\n",
       "  'email': 'max@gmail.com',\n",
       "  'subjects': ['art', 'music'],\n",
       "  'age': 27}]"
      ]
     },
     "execution_count": 15,
     "metadata": {},
     "output_type": "execute_result"
    }
   ],
   "source": [
    "[ i for i in Users if \"math\" in i[\"subjects\"] or \"art\" in i[\"subjects\"] ]"
   ]
  },
  {
   "cell_type": "code",
   "execution_count": 7,
   "metadata": {},
   "outputs": [
    {
     "data": {
      "text/plain": [
       "[{'id': 233,\n",
       "  'first_name': 'Joy',\n",
       "  'last_name': 'deep',\n",
       "  'email': 'Joy@gmail.com',\n",
       "  'subjects': ['math'],\n",
       "  'age': 20},\n",
       " {'id': 234,\n",
       "  'first_name': 'Ram',\n",
       "  'last_name': 'singh',\n",
       "  'email': 'Joi@hashedin.com',\n",
       "  'subjects': ['math', 'art'],\n",
       "  'age': 25},\n",
       " {'id': 235,\n",
       "  'first_name': 'Jodt',\n",
       "  'last_name': 'deep',\n",
       "  'email': 'max@gmail.com',\n",
       "  'subjects': ['art', 'music'],\n",
       "  'age': 27}]"
      ]
     },
     "execution_count": 7,
     "metadata": {},
     "output_type": "execute_result"
    }
   ],
   "source": [
    "[ i for i in Users if \"math\" in i[\"subjects\"] or \"art\" in i[\"subjects\"] ]"
   ]
  },
  {
   "cell_type": "code",
   "execution_count": 8,
   "metadata": {},
   "outputs": [
    {
     "name": "stdout",
     "output_type": "stream",
     "text": [
      "{'id': 233, 'first_name': 'Joy', 'last_name': 'deep', 'email': 'Joy@gmail.com', 'subjects': ['math'], 'age': 20}\n",
      "{'id': 234, 'first_name': 'Ram', 'last_name': 'singh', 'email': 'Joi@hashedin.com', 'subjects': ['math', 'art'], 'age': 25}\n",
      "{'id': 235, 'first_name': 'Jodt', 'last_name': 'deep', 'email': 'max@gmail.com', 'subjects': ['art', 'music'], 'age': 27}\n"
     ]
    }
   ],
   "source": [
    "#Here if you used round bracket then it becomes a generator\n",
    "nee = ( i for i in Users if \"math\" in i[\"subjects\"] or \"art\" in i[\"subjects\"] )\n",
    "for i in nee:\n",
    "    print(i)"
   ]
  },
  {
   "cell_type": "markdown",
   "metadata": {},
   "source": [
    "Regular Expression"
   ]
  },
  {
   "cell_type": "code",
   "execution_count": 20,
   "metadata": {},
   "outputs": [
    {
     "name": "stdout",
     "output_type": "stream",
     "text": [
      "['Hello', 'I', 'am', 'Hello', 'neethu']\n"
     ]
    }
   ],
   "source": [
    "import re\n",
    "my_str = \"Hello I am Hello neethu\"\n",
    "x = re.findall(\"[A-Z|a-z]+\",my_str)\n",
    "print(x)"
   ]
  },
  {
   "cell_type": "code",
   "execution_count": 28,
   "metadata": {},
   "outputs": [
    {
     "name": "stdout",
     "output_type": "stream",
     "text": [
      "Namaste I am Namaste neethu amam\n",
      "Namaste I am Namaste neethu amam\n"
     ]
    }
   ],
   "source": [
    "import re\n",
    "my_str = \"Hello I am Hello neethu amam\"\n",
    "x = re.sub(\"Hello\",\"Namaste\",my_str)\n",
    "print(x)\n",
    "y = my_str.replace(\"Hello\",\"Namaste\")\n",
    "print(y)"
   ]
  },
  {
   "cell_type": "code",
   "execution_count": 61,
   "metadata": {},
   "outputs": [
    {
     "name": "stdout",
     "output_type": "stream",
     "text": [
      "Present\n"
     ]
    }
   ],
   "source": [
    "import re\n",
    "my_str = \"Hello I am Hello neethu\"\n",
    "if re.search(\"Hello\",my_str):\n",
    "    print(\"Present\")"
   ]
  },
  {
   "cell_type": "code",
   "execution_count": 81,
   "metadata": {},
   "outputs": [
    {
     "name": "stdout",
     "output_type": "stream",
     "text": [
      "0\n",
      "1\n",
      "2\n",
      "3\n",
      "4\n",
      "5\n",
      "6\n",
      "7\n",
      "8\n",
      "9\n"
     ]
    }
   ],
   "source": [
    "y = (x for x in range(10))\n",
    "type(y)\n",
    "while True:\n",
    "    try :\n",
    "        print(next(y))\n",
    "    except Exception as e:\n",
    "        break"
   ]
  },
  {
   "cell_type": "code",
   "execution_count": 2,
   "metadata": {},
   "outputs": [
    {
     "name": "stdout",
     "output_type": "stream",
     "text": [
      "0\n",
      "1\n",
      "2\n",
      "3\n",
      "4\n",
      "5\n",
      "6\n",
      "7\n",
      "8\n",
      "9\n"
     ]
    },
    {
     "ename": "StopIteration",
     "evalue": "",
     "output_type": "error",
     "traceback": [
      "\u001b[1;31m---------------------------------------------------------------------------\u001b[0m",
      "\u001b[1;31mStopIteration\u001b[0m                             Traceback (most recent call last)",
      "\u001b[1;32m<ipython-input-2-5f8d19d568ef>\u001b[0m in \u001b[0;36m<module>\u001b[1;34m\u001b[0m\n\u001b[0;32m      1\u001b[0m \u001b[0my\u001b[0m \u001b[1;33m=\u001b[0m \u001b[0miter\u001b[0m\u001b[1;33m(\u001b[0m\u001b[0mrange\u001b[0m\u001b[1;33m(\u001b[0m\u001b[1;36m10\u001b[0m\u001b[1;33m)\u001b[0m\u001b[1;33m)\u001b[0m\u001b[1;33m\u001b[0m\u001b[1;33m\u001b[0m\u001b[0m\n\u001b[0;32m      2\u001b[0m \u001b[1;32mwhile\u001b[0m \u001b[1;32mTrue\u001b[0m\u001b[1;33m:\u001b[0m\u001b[1;33m\u001b[0m\u001b[1;33m\u001b[0m\u001b[0m\n\u001b[1;32m----> 3\u001b[1;33m     \u001b[0mprint\u001b[0m\u001b[1;33m(\u001b[0m\u001b[0mnext\u001b[0m\u001b[1;33m(\u001b[0m\u001b[0my\u001b[0m\u001b[1;33m)\u001b[0m\u001b[1;33m)\u001b[0m\u001b[1;33m\u001b[0m\u001b[1;33m\u001b[0m\u001b[0m\n\u001b[0m",
      "\u001b[1;31mStopIteration\u001b[0m: "
     ]
    }
   ],
   "source": [
    "y = iter(range(10))\n",
    "while True:\n",
    "    print(next(y))"
   ]
  },
  {
   "cell_type": "code",
   "execution_count": 31,
   "metadata": {},
   "outputs": [
    {
     "name": "stdout",
     "output_type": "stream",
     "text": [
      "[0, 1, 2, 3, 4, 5, 6, 7, 8, 9]\n",
      "[9, 8, 7, 6, 5, 4, 3, 2, 1, 0]\n",
      "[0, 1, 2, 3, 4, 5, 6, 7, 8, 9]\n",
      "[9, 8, 7, 6, 5, 4, 3, 2, 1, 0]\n",
      "[9, 8, 7, 6, 5, 4, 3, 2, 1, 0, 11, 'a', 'b']\n",
      "b\n",
      "8\n",
      "<enumerate object at 0x000001EB6738FBD8>\n"
     ]
    }
   ],
   "source": [
    "my_list = list(range(10))\n",
    "print(my_list)\n",
    "my_list.reverse()\n",
    "print(my_list)\n",
    "print(sorted(my_list))\n",
    "print(my_list)\n",
    "my_list.append(11)\n",
    "my_list.extend(['a','b'])\n",
    "print(my_list)\n",
    "y = my_list.pop()\n",
    "print(y)\n",
    "my_list.remove('a')\n",
    "del my_list[0]\n",
    "print(my_list.index(0))\n",
    "print(enumerate(my_list))"
   ]
  },
  {
   "cell_type": "code",
   "execution_count": 18,
   "metadata": {},
   "outputs": [],
   "source": [
    "nee = (12,2,3,3,4)"
   ]
  },
  {
   "cell_type": "code",
   "execution_count": 17,
   "metadata": {},
   "outputs": [
    {
     "name": "stdout",
     "output_type": "stream",
     "text": [
      "(12, 2, 3, 3, 4)\n"
     ]
    }
   ],
   "source": [
    "print(nee)"
   ]
  },
  {
   "cell_type": "code",
   "execution_count": 7,
   "metadata": {},
   "outputs": [
    {
     "data": {
      "text/plain": [
       "2"
      ]
     },
     "execution_count": 7,
     "metadata": {},
     "output_type": "execute_result"
    }
   ],
   "source": [
    "nee[1]"
   ]
  },
  {
   "cell_type": "code",
   "execution_count": 12,
   "metadata": {},
   "outputs": [],
   "source": [
    "nee_set = {4,1,2,3,4}"
   ]
  },
  {
   "cell_type": "code",
   "execution_count": 13,
   "metadata": {},
   "outputs": [
    {
     "data": {
      "text/plain": [
       "{1, 2, 3, 4}"
      ]
     },
     "execution_count": 13,
     "metadata": {},
     "output_type": "execute_result"
    }
   ],
   "source": [
    "nee_set"
   ]
  },
  {
   "cell_type": "code",
   "execution_count": 22,
   "metadata": {},
   "outputs": [
    {
     "data": {
      "text/plain": [
       "('z', 'z', 'a', 'd', 'b', 'f', 'g', 'c')"
      ]
     },
     "execution_count": 22,
     "metadata": {},
     "output_type": "execute_result"
    }
   ],
   "source": [
    "tuple(['z','z','a','d','b','f','g','c'])"
   ]
  },
  {
   "cell_type": "code",
   "execution_count": null,
   "metadata": {},
   "outputs": [],
   "source": []
  }
 ],
 "metadata": {
  "kernelspec": {
   "display_name": "Python 3",
   "language": "python",
   "name": "python3"
  },
  "language_info": {
   "codemirror_mode": {
    "name": "ipython",
    "version": 3
   },
   "file_extension": ".py",
   "mimetype": "text/x-python",
   "name": "python",
   "nbconvert_exporter": "python",
   "pygments_lexer": "ipython3",
   "version": "3.7.7"
  }
 },
 "nbformat": 4,
 "nbformat_minor": 4
}
