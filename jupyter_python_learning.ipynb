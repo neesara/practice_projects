{
 "cells": [
  {
   "cell_type": "markdown",
   "metadata": {},
   "source": [
    "# My python learning"
   ]
  },
  {
   "cell_type": "markdown",
   "metadata": {},
   "source": [
    "Scope :"
   ]
  },
  {
   "cell_type": "code",
   "execution_count": 1,
   "metadata": {},
   "outputs": [
    {
     "name": "stdout",
     "output_type": "stream",
     "text": [
      "3\n",
      "5\n"
     ]
    }
   ],
   "source": [
    "b=5\n",
    "\n",
    "def my_test():\n",
    "    b=3\n",
    "    print(b)\n",
    "\n",
    "my_test()\n",
    "print(b)"
   ]
  },
  {
   "cell_type": "markdown",
   "metadata": {},
   "source": [
    "Interleave two strings :"
   ]
  },
  {
   "cell_type": "code",
   "execution_count": 2,
   "metadata": {},
   "outputs": [
    {
     "name": "stdout",
     "output_type": "stream",
     "text": [
      "Enter string 1 :abcd\n",
      "Enter string 2 :123456\n",
      "a1b2c3d456\n"
     ]
    }
   ],
   "source": [
    "def interleave(s1:str, s2:str) -> str :\n",
    "    s3 = \"\"\n",
    "    j = 0\n",
    "    for i in s1:\n",
    "        if j < len(s2):\n",
    "            s3 = s3 + i\n",
    "            s3 = s3 + s2[j]\n",
    "            j += 1\n",
    "        else:\n",
    "            s3 = s3 + i\n",
    "    if j < len(s2):\n",
    "        for i in range(j,len(s2)):\n",
    "            s3 = s3 + s2[i]\n",
    "    return s3\n",
    "\n",
    "s1 = input(\"Enter string 1 :\")\n",
    "s2 = input(\"Enter string 2 :\")\n",
    "\n",
    "print(interleave(s1,s2))"
   ]
  },
  {
   "cell_type": "markdown",
   "metadata": {},
   "source": [
    "String functions :"
   ]
  },
  {
   "cell_type": "code",
   "execution_count": 13,
   "metadata": {},
   "outputs": [
    {
     "name": "stdout",
     "output_type": "stream",
     "text": [
      "Adddjdsddgsdhsdgsjsds\n",
      "ADDDjdsdDGSDHSDGSJSDS\n",
      "ADDDJDSDDGSDHSDGSJSDS\n",
      "adddjdsddgsdhsdgsjsds\n"
     ]
    }
   ],
   "source": [
    "my_str = \"adddJDSDdgsdhsdgsjsds\"\n",
    "str1 = my_str.capitalize()\n",
    "print(str1)\n",
    "str2 = my_str.swapcase()\n",
    "print(str2)\n",
    "str3 = my_str.upper()\n",
    "print(str3)\n",
    "str4 = my_str.lower()\n",
    "print(str4)"
   ]
  },
  {
   "cell_type": "code",
   "execution_count": 17,
   "metadata": {},
   "outputs": [
    {
     "name": "stdout",
     "output_type": "stream",
     "text": [
      "[5, 4, 3, 1] None\n"
     ]
    }
   ],
   "source": [
    "my_list = [1,3,4,5]\n",
    "my_list2 = my_list.reverse()\n",
    "print(my_list,my_list2)\n"
   ]
  },
  {
   "cell_type": "code",
   "execution_count": 19,
   "metadata": {},
   "outputs": [
    {
     "name": "stdout",
     "output_type": "stream",
     "text": [
      "[1, 2, 3, 4, 5] [1, 2, 3, 4]\n"
     ]
    }
   ],
   "source": [
    "my_list = [1,2,3,4]\n",
    "my_list2 = my_list\n",
    "my_list = [1,2,3,4,5]\n",
    "print(my_list,my_list2)"
   ]
  },
  {
   "cell_type": "code",
   "execution_count": 20,
   "metadata": {},
   "outputs": [
    {
     "data": {
      "text/plain": [
       "True"
      ]
     },
     "execution_count": 20,
     "metadata": {},
     "output_type": "execute_result"
    }
   ],
   "source": [
    "a = 10\n",
    "b = 10\n",
    "a is b"
   ]
  },
  {
   "cell_type": "code",
   "execution_count": 21,
   "metadata": {},
   "outputs": [
    {
     "data": {
      "text/plain": [
       "False"
      ]
     },
     "execution_count": 21,
     "metadata": {},
     "output_type": "execute_result"
    }
   ],
   "source": [
    "a = [1, 2, 3, 4]\n",
    "b = [1, 2, 3, 4]\n",
    "a is b"
   ]
  },
  {
   "cell_type": "markdown",
   "metadata": {},
   "source": [
    "String is immutable while list is not"
   ]
  },
  {
   "cell_type": "code",
   "execution_count": 2,
   "metadata": {},
   "outputs": [
    {
     "ename": "TypeError",
     "evalue": "'str' object does not support item assignment",
     "output_type": "error",
     "traceback": [
      "\u001b[1;31m---------------------------------------------------------------------------\u001b[0m",
      "\u001b[1;31mTypeError\u001b[0m                                 Traceback (most recent call last)",
      "\u001b[1;32m<ipython-input-2-ad3ee1087181>\u001b[0m in \u001b[0;36m<module>\u001b[1;34m\u001b[0m\n\u001b[0;32m      1\u001b[0m \u001b[0ma\u001b[0m \u001b[1;33m=\u001b[0m \u001b[1;34m\"Hi Neethu\"\u001b[0m\u001b[1;33m\u001b[0m\u001b[1;33m\u001b[0m\u001b[0m\n\u001b[1;32m----> 2\u001b[1;33m \u001b[0ma\u001b[0m\u001b[1;33m[\u001b[0m\u001b[1;36m0\u001b[0m\u001b[1;33m]\u001b[0m \u001b[1;33m=\u001b[0m \u001b[1;34m'h'\u001b[0m\u001b[1;33m\u001b[0m\u001b[1;33m\u001b[0m\u001b[0m\n\u001b[0m",
      "\u001b[1;31mTypeError\u001b[0m: 'str' object does not support item assignment"
     ]
    }
   ],
   "source": [
    "a = \"Hi Neethu\"\n",
    "a[0] = 'h'"
   ]
  },
  {
   "cell_type": "code",
   "execution_count": 4,
   "metadata": {},
   "outputs": [
    {
     "data": {
      "text/plain": [
       "[5, 2, 3, 4]"
      ]
     },
     "execution_count": 4,
     "metadata": {},
     "output_type": "execute_result"
    }
   ],
   "source": [
    "a = [1,2,3,4]\n",
    "a[0] = 5\n",
    "a"
   ]
  },
  {
   "cell_type": "code",
   "execution_count": 6,
   "metadata": {},
   "outputs": [],
   "source": [
    "a = 256\n",
    "a = chr(a)"
   ]
  },
  {
   "cell_type": "code",
   "execution_count": 3,
   "metadata": {},
   "outputs": [
    {
     "name": "stdout",
     "output_type": "stream",
     "text": [
      "\u0005\n"
     ]
    }
   ],
   "source": [
    "print(a)"
   ]
  },
  {
   "cell_type": "code",
   "execution_count": 7,
   "metadata": {},
   "outputs": [],
   "source": [
    "a=\"Hello\""
   ]
  },
  {
   "cell_type": "code",
   "execution_count": 24,
   "metadata": {},
   "outputs": [
    {
     "name": "stdout",
     "output_type": "stream",
     "text": [
      "Hello\n"
     ]
    },
    {
     "data": {
      "text/plain": [
       "'ello'"
      ]
     },
     "execution_count": 24,
     "metadata": {},
     "output_type": "execute_result"
    }
   ],
   "source": [
    "print(a)\n",
    "a[1:]"
   ]
  },
  {
   "cell_type": "code",
   "execution_count": 26,
   "metadata": {},
   "outputs": [
    {
     "data": {
      "text/plain": [
       "'ll'"
      ]
     },
     "execution_count": 26,
     "metadata": {},
     "output_type": "execute_result"
    }
   ],
   "source": [
    "x = slice(2,4)\n",
    "a[x]"
   ]
  },
  {
   "cell_type": "markdown",
   "metadata": {},
   "source": [
    "String reversal :"
   ]
  },
  {
   "cell_type": "code",
   "execution_count": 28,
   "metadata": {},
   "outputs": [
    {
     "data": {
      "text/plain": [
       "'HGFEDCBA'"
      ]
     },
     "execution_count": 28,
     "metadata": {},
     "output_type": "execute_result"
    }
   ],
   "source": [
    "a = \"ABCDEFGH\"\n",
    "a[::-1]"
   ]
  },
  {
   "cell_type": "code",
   "execution_count": 31,
   "metadata": {},
   "outputs": [],
   "source": [
    "import os\n",
    "out = os.system(\"dir\")"
   ]
  },
  {
   "cell_type": "code",
   "execution_count": 32,
   "metadata": {},
   "outputs": [
    {
     "data": {
      "text/plain": [
       "0"
      ]
     },
     "execution_count": 32,
     "metadata": {},
     "output_type": "execute_result"
    }
   ],
   "source": [
    "out"
   ]
  },
  {
   "cell_type": "code",
   "execution_count": 11,
   "metadata": {},
   "outputs": [
    {
     "name": "stdout",
     "output_type": "stream",
     "text": [
      "['/* Program to count the number of bits with value 1 in given number*/\\n', '#include<stdio.h>\\n', '\\n', 'int main()\\n', '{\\n', '\\n', 'int i,num,n,comp=1,new,count=0;\\n', '\\n', 'scanf(\"%d\",&n);\\n', '\\n', 'num=8*sizeof(int);\\n', 'for(i=0;i<num;i++)\\n', '{\\n', ' new=comp & n;\\n', ' if(new==1)\\n', '    count++;\\n', ' n=n >> 1; \\n', '}\\n', '\\n', 'printf(\"%d\",count);\\n', '\\n', '}\\n']\n"
     ]
    }
   ],
   "source": [
    "with open('count_bits.c','r') as f:\n",
    "    data = f.readlines()\n",
    "print(data)"
   ]
  },
  {
   "cell_type": "code",
   "execution_count": 6,
   "metadata": {},
   "outputs": [
    {
     "name": "stdout",
     "output_type": "stream",
     "text": [
      "Error name 'tiel' is not defined\n"
     ]
    }
   ],
   "source": [
    "title = 'Hello'\n",
    "try:\n",
    "    print(tiel)\n",
    "except Exception as e:\n",
    "    print(\"Error\",e)"
   ]
  },
  {
   "cell_type": "code",
   "execution_count": 3,
   "metadata": {},
   "outputs": [
    {
     "name": "stdout",
     "output_type": "stream",
     "text": [
      "/* Program to count the number of bits with value 1 in given number*/\n",
      "\n",
      "#include<stdio.h>\n",
      "\n",
      "\n",
      "\n",
      "int main()\n",
      "\n",
      "{\n",
      "\n",
      "\n",
      "\n",
      "int i,num,n,comp=1,new,count=0;\n",
      "\n",
      "\n",
      "\n",
      "scanf(\"%d\",&n);\n",
      "\n",
      "\n",
      "\n"
     ]
    }
   ],
   "source": [
    "f = open('count_bits.c','r')\n",
    "for i in range(10):\n",
    "    print(f.readline())\n",
    "f.close()\n",
    "    "
   ]
  },
  {
   "cell_type": "markdown",
   "metadata": {},
   "source": [
    "Monkey patching :"
   ]
  },
  {
   "cell_type": "code",
   "execution_count": 3,
   "metadata": {},
   "outputs": [
    {
     "name": "stdout",
     "output_type": "stream",
     "text": [
      "Replace expensive ? Enter y or nn\n",
      "I am expensive\n"
     ]
    }
   ],
   "source": [
    "def my_func1():\n",
    "    print(\"I am expensive\")\n",
    "\n",
    "def my_func2():\n",
    "    print(\"I am not expensive\")\n",
    "    \n",
    "value = input(\"Replace expensive ? Enter y or n\")\n",
    "\n",
    "if value == 'y':\n",
    "    my_func1 = my_func2\n",
    "\n",
    "my_func1()\n"
   ]
  },
  {
   "cell_type": "code",
   "execution_count": 1,
   "metadata": {},
   "outputs": [
    {
     "name": "stdout",
     "output_type": "stream",
     "text": [
      "After local assignment: test spam\n",
      "After nonlocal assignment: nonlocal spam\n",
      "After global assignment: nonlocal spam\n",
      "In global scope: global spam\n"
     ]
    }
   ],
   "source": [
    "def scope_test():\n",
    "    def do_local():\n",
    "        spam = \"local spam\"\n",
    "\n",
    "    def do_nonlocal():\n",
    "        nonlocal spam\n",
    "        spam = \"nonlocal spam\"\n",
    "\n",
    "    def do_global():\n",
    "        global spam\n",
    "        spam = \"global spam\"\n",
    "\n",
    "    spam = \"test spam\"\n",
    "    do_local()\n",
    "    print(\"After local assignment:\", spam)\n",
    "    do_nonlocal()\n",
    "    print(\"After nonlocal assignment:\", spam)\n",
    "    do_global()\n",
    "    print(\"After global assignment:\", spam)\n",
    "\n",
    "scope_test()\n",
    "print(\"In global scope:\", spam)"
   ]
  },
  {
   "cell_type": "code",
   "execution_count": 11,
   "metadata": {},
   "outputs": [
    {
     "name": "stdout",
     "output_type": "stream",
     "text": [
      "The data is Hello 5\n",
      "Neethu\n",
      "Neethu\n",
      "I am static\n",
      "I am static\n"
     ]
    }
   ],
   "source": [
    "class NeeData:\n",
    "    my_name = \"Neethu\"\n",
    "    def __init__(self,my_data1,my_data2):\n",
    "        self.my_data1 = my_data1\n",
    "        self.my_data2 = my_data2\n",
    "    def print_data(self):\n",
    "        print(\"The data is\" ,self.my_data1 ,self.my_data2)\n",
    "        \n",
    "    @classmethod\n",
    "    def hello_world(cls):\n",
    "        print(cls.my_name)\n",
    "        \n",
    "    @staticmethod\n",
    "    def my_static():\n",
    "        print(\"I am static\")\n",
    "        \n",
    "\n",
    "n1 = NeeData(\"Hello\",5)\n",
    "n1.print_data()\n",
    "NeeData.hello_world()\n",
    "n1.hello_world()\n",
    "NeeData.my_static()\n",
    "n1.my_static()\n",
    "        "
   ]
  },
  {
   "cell_type": "code",
   "execution_count": 1,
   "metadata": {},
   "outputs": [
    {
     "name": "stdout",
     "output_type": "stream",
     "text": [
      "[1, 2, 3] ['a', 'b', 'c'] ['age', 'name', 15]\n"
     ]
    }
   ],
   "source": [
    "l1 = [1,2,3]\n",
    "l2 = ['a','b','c']\n",
    "l3 = ['age', 'name', 15]\n",
    "print(l1,l2,l3)"
   ]
  },
  {
   "cell_type": "code",
   "execution_count": 2,
   "metadata": {},
   "outputs": [],
   "source": [
    "l4 = [l1,l2,l3]"
   ]
  },
  {
   "cell_type": "code",
   "execution_count": 3,
   "metadata": {},
   "outputs": [
    {
     "data": {
      "text/plain": [
       "[[1, 2, 3], ['a', 'b', 'c'], ['age', 'name', 15]]"
      ]
     },
     "execution_count": 3,
     "metadata": {},
     "output_type": "execute_result"
    }
   ],
   "source": [
    "l4"
   ]
  },
  {
   "cell_type": "code",
   "execution_count": 5,
   "metadata": {},
   "outputs": [],
   "source": [
    "import copy\n",
    "l5 = copy.copy(l4)"
   ]
  },
  {
   "cell_type": "code",
   "execution_count": 6,
   "metadata": {},
   "outputs": [
    {
     "data": {
      "text/plain": [
       "[[1, 2, 3], ['a', 'b', 'c'], ['age', 'name', 15]]"
      ]
     },
     "execution_count": 6,
     "metadata": {},
     "output_type": "execute_result"
    }
   ],
   "source": [
    "l5"
   ]
  },
  {
   "cell_type": "code",
   "execution_count": 7,
   "metadata": {},
   "outputs": [],
   "source": [
    "l1.append(5)"
   ]
  },
  {
   "cell_type": "code",
   "execution_count": 8,
   "metadata": {},
   "outputs": [
    {
     "data": {
      "text/plain": [
       "[[1, 2, 3, 5], ['a', 'b', 'c'], ['age', 'name', 15]]"
      ]
     },
     "execution_count": 8,
     "metadata": {},
     "output_type": "execute_result"
    }
   ],
   "source": [
    "l5"
   ]
  },
  {
   "cell_type": "code",
   "execution_count": 10,
   "metadata": {},
   "outputs": [],
   "source": [
    "l6 = copy.deepcopy(l4)"
   ]
  },
  {
   "cell_type": "code",
   "execution_count": 11,
   "metadata": {},
   "outputs": [
    {
     "data": {
      "text/plain": [
       "[[1, 2, 3, 5], ['a', 'b', 'c'], ['age', 'name', 15]]"
      ]
     },
     "execution_count": 11,
     "metadata": {},
     "output_type": "execute_result"
    }
   ],
   "source": [
    "l6"
   ]
  },
  {
   "cell_type": "code",
   "execution_count": 16,
   "metadata": {},
   "outputs": [],
   "source": [
    "l1.append(6)"
   ]
  },
  {
   "cell_type": "code",
   "execution_count": 17,
   "metadata": {},
   "outputs": [
    {
     "name": "stdout",
     "output_type": "stream",
     "text": [
      "[1, 2, 3, 5, 6]\n"
     ]
    }
   ],
   "source": [
    "print(l1)"
   ]
  },
  {
   "cell_type": "code",
   "execution_count": 18,
   "metadata": {},
   "outputs": [
    {
     "name": "stdout",
     "output_type": "stream",
     "text": [
      "[[1, 2, 3, 5, 6], ['a', 'b', 'c'], ['age', 'name', 15]] [[1, 2, 3, 5], ['a', 'b', 'c'], ['age', 'name', 15]]\n"
     ]
    }
   ],
   "source": [
    "print(l5,l6)"
   ]
  },
  {
   "cell_type": "code",
   "execution_count": 1,
   "metadata": {},
   "outputs": [
    {
     "data": {
      "text/plain": [
       "[2, 4, 5, 6, 7, 17, 18, 18, 19]"
      ]
     },
     "execution_count": 1,
     "metadata": {},
     "output_type": "execute_result"
    }
   ],
   "source": [
    "a = [17,18,19,2,4,5,6,7,18]\n",
    "sorted(a)"
   ]
  },
  {
   "cell_type": "code",
   "execution_count": 2,
   "metadata": {},
   "outputs": [
    {
     "data": {
      "text/plain": [
       "[17, 18, 19, 2, 4, 5, 6, 7, 18]"
      ]
     },
     "execution_count": 2,
     "metadata": {},
     "output_type": "execute_result"
    }
   ],
   "source": [
    "a"
   ]
  },
  {
   "cell_type": "code",
   "execution_count": 3,
   "metadata": {},
   "outputs": [],
   "source": [
    "b = sorted(a)"
   ]
  },
  {
   "cell_type": "code",
   "execution_count": 4,
   "metadata": {},
   "outputs": [
    {
     "name": "stdout",
     "output_type": "stream",
     "text": [
      "[17, 18, 19, 2, 4, 5, 6, 7, 18] [2, 4, 5, 6, 7, 17, 18, 18, 19]\n"
     ]
    }
   ],
   "source": [
    "print(a,b)"
   ]
  },
  {
   "cell_type": "code",
   "execution_count": 7,
   "metadata": {},
   "outputs": [
    {
     "name": "stdout",
     "output_type": "stream",
     "text": [
      "['a', 'd', 'd', 'd', 'd', 'e', 'e', 'e', 'e', 'f', 'f', 'j', 's', 'w', 'w', 'w', 'y']\n"
     ]
    }
   ],
   "source": [
    "str1 = \"asjddefefweydwdwe\"\n",
    "str2 = sorted(str1)\n",
    "print(str2)"
   ]
  },
  {
   "cell_type": "code",
   "execution_count": 12,
   "metadata": {},
   "outputs": [
    {
     "name": "stdout",
     "output_type": "stream",
     "text": [
      "['a', 'd', 'd', 'd', 'd', 'e', 'e', 'e', 'e', 'f', 'f', 'j', 's', 'w', 'w', 'w', 'y']\n"
     ]
    }
   ],
   "source": [
    "print(s)"
   ]
  },
  {
   "cell_type": "code",
   "execution_count": null,
   "metadata": {},
   "outputs": [],
   "source": [
    "import pickle\n",
    "class TodoList:\n",
    "    def __init__(self):\n",
    "        self.my_todo = {}\n",
    "    def add_item(self, task:str, state:int):\n",
    "        self.my_todo.update({task : state})\n",
    "    def print_tasks(self):\n",
    "        status_list = [\"Todo\", \"In progress\", \"Done\"]\n",
    "        i = 0\n",
    "        print(\"Here is your list of tasks :\")\n",
    "        for key,value in self.my_todo.items():\n",
    "            print(\"%d) %s -> %s\"%(i,key,status_list[value]))\n",
    "            i += 1\n",
    "    def change_status(self, task:str, state:int):\n",
    "        self.my_todo[task] = state\n",
    "    def delete_task(self, task:str):\n",
    "        del self.my_todo[task]                \n",
    "        \n",
    "todo1 = TodoList()\n",
    "try :\n",
    "    f = open(\"my_todo.dat\",\"rb\")\n",
    "    todo1.my_todo = pickle.load(f)\n",
    "except Exception as e :\n",
    "    print(e)\n",
    "\n",
    "while True:\n",
    "    try :\n",
    "        todo1.print_tasks()\n",
    "        print(\"\\n1. Add task \\n\"\\\n",
    "              \"2. Update status\\n\"\\\n",
    "              \"3. Delete a task\\n\" \\\n",
    "              \"4. Exit\" \\\n",
    "             )\n",
    "        choice = int(input(\"Enter your choice :\"))\n",
    "        if choice == 1 :\n",
    "            print(\"Enter the task name<space>status\\n\"\\\n",
    "                  \"for status enter 0, 1, 2 :\\n\"\\\n",
    "                  \"0 - Todo, 1 - In progress, 2 - done\")\n",
    "            task_details = input(\"Enter the task and status separated by space :\")\n",
    "            temp_list = task_details.split()\n",
    "            todo1.add_item(temp_list[0], int(temp_list[1]))\n",
    "        elif choice == 2 :\n",
    "            print(\"Enter the task name<space>status\\n\"\\\n",
    "                    \"for status enter 0, 1, 2 :\\n\"\\\n",
    "                    \"0 - Todo, 1 - In progress, 2 - done\")\n",
    "            task_details = input(\"Enter the task and new status :\")\n",
    "            temp_list = task_details.split()\n",
    "            todo1.change_status(temp_list[0], int(temp_list[1]))\n",
    "        elif choice == 3 :\n",
    "            task = input(\"Enter the task :\")\n",
    "            todo1.delete_task(task)      \n",
    "        elif choice == 4 :\n",
    "            f = open(\"my_todo.dat\",\"ab\")\n",
    "            pickle.dump(todo1.my_todo,f)\n",
    "            break\n",
    "        else :\n",
    "            print(\"Invalid choice enter a value between 1 to 3\")\n",
    "    except Exception as e:\n",
    "            print(\"Error in entry :\",e)\n",
    "        "
   ]
  },
  {
   "cell_type": "markdown",
   "metadata": {},
   "source": [
    "#### want to tell more on python dictionary"
   ]
  },
  {
   "cell_type": "code",
   "execution_count": 1,
   "metadata": {},
   "outputs": [],
   "source": [
    "a = {1:234, 3:3564, 2:4534, 4:5345}"
   ]
  },
  {
   "cell_type": "code",
   "execution_count": 2,
   "metadata": {},
   "outputs": [
    {
     "name": "stdout",
     "output_type": "stream",
     "text": [
      "{1: 234, 3: 3564, 2: 4534, 4: 5345}\n"
     ]
    }
   ],
   "source": [
    "print(a)"
   ]
  },
  {
   "cell_type": "code",
   "execution_count": 3,
   "metadata": {},
   "outputs": [
    {
     "data": {
      "text/plain": [
       "234"
      ]
     },
     "execution_count": 3,
     "metadata": {},
     "output_type": "execute_result"
    }
   ],
   "source": [
    "a[1]"
   ]
  },
  {
   "cell_type": "code",
   "execution_count": 5,
   "metadata": {},
   "outputs": [
    {
     "data": {
      "text/plain": [
       "4534"
      ]
     },
     "execution_count": 5,
     "metadata": {},
     "output_type": "execute_result"
    }
   ],
   "source": [
    "a[2]"
   ]
  },
  {
   "cell_type": "code",
   "execution_count": 6,
   "metadata": {},
   "outputs": [],
   "source": [
    "a[3] = 222"
   ]
  },
  {
   "cell_type": "code",
   "execution_count": 7,
   "metadata": {},
   "outputs": [
    {
     "data": {
      "text/plain": [
       "{1: 234, 3: 222, 2: 4534, 4: 5345}"
      ]
     },
     "execution_count": 7,
     "metadata": {},
     "output_type": "execute_result"
    }
   ],
   "source": [
    "a"
   ]
  },
  {
   "cell_type": "code",
   "execution_count": 8,
   "metadata": {},
   "outputs": [
    {
     "data": {
      "text/plain": [
       "222"
      ]
     },
     "execution_count": 8,
     "metadata": {},
     "output_type": "execute_result"
    }
   ],
   "source": [
    "a.pop(3)"
   ]
  },
  {
   "cell_type": "code",
   "execution_count": 9,
   "metadata": {},
   "outputs": [
    {
     "data": {
      "text/plain": [
       "{1: 234, 2: 4534, 4: 5345}"
      ]
     },
     "execution_count": 9,
     "metadata": {},
     "output_type": "execute_result"
    }
   ],
   "source": [
    "a"
   ]
  },
  {
   "cell_type": "code",
   "execution_count": 10,
   "metadata": {},
   "outputs": [
    {
     "data": {
      "text/plain": [
       "(4, 5345)"
      ]
     },
     "execution_count": 10,
     "metadata": {},
     "output_type": "execute_result"
    }
   ],
   "source": [
    "a.popitem()"
   ]
  },
  {
   "cell_type": "code",
   "execution_count": 11,
   "metadata": {},
   "outputs": [],
   "source": [
    "a.update({5:54364, 6:3743})"
   ]
  },
  {
   "cell_type": "code",
   "execution_count": 12,
   "metadata": {},
   "outputs": [
    {
     "data": {
      "text/plain": [
       "{1: 234, 2: 4534, 5: 54364, 6: 3743}"
      ]
     },
     "execution_count": 12,
     "metadata": {},
     "output_type": "execute_result"
    }
   ],
   "source": [
    "a"
   ]
  },
  {
   "cell_type": "code",
   "execution_count": 14,
   "metadata": {},
   "outputs": [
    {
     "data": {
      "text/plain": [
       "dict_items([(1, 234), (2, 4534), (5, 54364), (6, 3743)])"
      ]
     },
     "execution_count": 14,
     "metadata": {},
     "output_type": "execute_result"
    }
   ],
   "source": [
    "a.items()"
   ]
  },
  {
   "cell_type": "code",
   "execution_count": 17,
   "metadata": {},
   "outputs": [
    {
     "name": "stdout",
     "output_type": "stream",
     "text": [
      "1\n",
      "2\n",
      "5\n",
      "6\n"
     ]
    }
   ],
   "source": [
    "for i in a.keys():\n",
    "    print(i)"
   ]
  },
  {
   "cell_type": "code",
   "execution_count": 17,
   "metadata": {},
   "outputs": [
    {
     "name": "stdout",
     "output_type": "stream",
     "text": [
      "I want to get decorated 3\n",
      "I am decorated\n"
     ]
    }
   ],
   "source": [
    "def wrap(func):\n",
    "    def inner_func(*args,**kwargs):\n",
    "        func(*args,**kwargs)\n",
    "        print(\"I am decorated\")\n",
    "    return(inner_func)\n",
    "\n",
    "@wrap\n",
    "def my_func(a,b):\n",
    "    print(\"I want to get decorated\",a+b)\n",
    "\n",
    "my_func(1,2)\n",
    "    "
   ]
  },
  {
   "cell_type": "code",
   "execution_count": 12,
   "metadata": {},
   "outputs": [
    {
     "name": "stdout",
     "output_type": "stream",
     "text": [
      "['1', '2', '3', '4', '5']\n",
      "['a', 'b', 'c', 'd', 'e']\n"
     ]
    }
   ],
   "source": [
    "my_str = \"ba321cd4e5\"\n",
    "my_nums = []\n",
    "my_letters = []\n",
    "for i in my_str:\n",
    "    #print(i)\n",
    "    if i.isdigit():\n",
    "        my_nums.append(i)\n",
    "    else:\n",
    "        my_letters.append(i)\n",
    "my_nums.sort()\n",
    "my_letters.sort()\n",
    "print(my_nums)\n",
    "print(my_letters)"
   ]
  },
  {
   "cell_type": "code",
   "execution_count": 2,
   "metadata": {},
   "outputs": [],
   "source": [
    "Users =[\n",
    "{\n",
    "\"id\": 233,\n",
    "\"first_name\" : \"Joy\",\n",
    "\"last_name\" : \"deep\",\n",
    "\"email\" : \"Joy@gmail.com\",\n",
    "\"subjects\": [\"math\"],\n",
    "\"age\": 20\n",
    "},\n",
    "{\n",
    "\"id\": 234,\n",
    "\"first_name\" : \"Ram\",\n",
    "\"last_name\" : \"singh\",\n",
    "\"email\" : \"Joi@hashedin.com\",\n",
    "\"subjects\": [\"math\", \"art\"],\n",
    "\"age\": 25\n",
    "},\n",
    "{\n",
    "\"id\": 235,\n",
    "\"first_name\" : \"Jodt\",\n",
    "\"last_name\" : \"deep\",\n",
    "\"email\" : \"max@gmail.com\",\n",
    "\"subjects\": [\"art\", \"music\"],\n",
    "\"age\": 27\n",
    "},\n",
    "{\n",
    "\"id\": 236,\n",
    "\"first_name\" : \"max\",\n",
    "\"last_name\" : \"singh\",\n",
    "\"email\" : \"himan@hashedin.com\",\n",
    "\"subjects\": [\"bio\", \"music\"],\n",
    "\"age\": 35\n",
    "}\n",
    "]"
   ]
  },
  {
   "cell_type": "code",
   "execution_count": 16,
   "metadata": {},
   "outputs": [
    {
     "data": {
      "text/plain": [
       "['Joy', 'Jodt']"
      ]
     },
     "execution_count": 16,
     "metadata": {},
     "output_type": "execute_result"
    }
   ],
   "source": [
    "[ i[\"first_name\"] for i in Users if i[\"first_name\"].startswith(\"Jo\") ]\n",
    "        "
   ]
  },
  {
   "cell_type": "code",
   "execution_count": 10,
   "metadata": {
    "scrolled": true
   },
   "outputs": [
    {
     "name": "stdout",
     "output_type": "stream",
     "text": [
      "['Joy', 'Jodt']\n"
     ]
    }
   ],
   "source": [
    "new_user=[]\n",
    "for i in Users:\n",
    "    if i[\"first_name\"].startswith(\"Jo\"):\n",
    "         new_user.append(i[\"first_name\"])\n",
    "print(new_user)"
   ]
  },
  {
   "cell_type": "markdown",
   "metadata": {},
   "source": [
    " Q. Find the list of all users whose subjects are either “math” or “Art”?"
   ]
  },
  {
   "cell_type": "code",
   "execution_count": 15,
   "metadata": {},
   "outputs": [
    {
     "data": {
      "text/plain": [
       "[{'id': 233,\n",
       "  'first_name': 'Joy',\n",
       "  'last_name': 'deep',\n",
       "  'email': 'Joy@gmail.com',\n",
       "  'subjects': ['math'],\n",
       "  'age': 20},\n",
       " {'id': 234,\n",
       "  'first_name': 'Ram',\n",
       "  'last_name': 'singh',\n",
       "  'email': 'Joi@hashedin.com',\n",
       "  'subjects': ['math', 'art'],\n",
       "  'age': 25},\n",
       " {'id': 235,\n",
       "  'first_name': 'Jodt',\n",
       "  'last_name': 'deep',\n",
       "  'email': 'max@gmail.com',\n",
       "  'subjects': ['art', 'music'],\n",
       "  'age': 27}]"
      ]
     },
     "execution_count": 15,
     "metadata": {},
     "output_type": "execute_result"
    }
   ],
   "source": [
    "[ i for i in Users if \"math\" in i[\"subjects\"] or \"art\" in i[\"subjects\"] ]"
   ]
  },
  {
   "cell_type": "code",
   "execution_count": 7,
   "metadata": {},
   "outputs": [
    {
     "data": {
      "text/plain": [
       "[{'id': 233,\n",
       "  'first_name': 'Joy',\n",
       "  'last_name': 'deep',\n",
       "  'email': 'Joy@gmail.com',\n",
       "  'subjects': ['math'],\n",
       "  'age': 20},\n",
       " {'id': 234,\n",
       "  'first_name': 'Ram',\n",
       "  'last_name': 'singh',\n",
       "  'email': 'Joi@hashedin.com',\n",
       "  'subjects': ['math', 'art'],\n",
       "  'age': 25},\n",
       " {'id': 235,\n",
       "  'first_name': 'Jodt',\n",
       "  'last_name': 'deep',\n",
       "  'email': 'max@gmail.com',\n",
       "  'subjects': ['art', 'music'],\n",
       "  'age': 27}]"
      ]
     },
     "execution_count": 7,
     "metadata": {},
     "output_type": "execute_result"
    }
   ],
   "source": [
    "[ i for i in Users if \"math\" in i[\"subjects\"] or \"art\" in i[\"subjects\"] ]"
   ]
  },
  {
   "cell_type": "code",
   "execution_count": 8,
   "metadata": {},
   "outputs": [
    {
     "name": "stdout",
     "output_type": "stream",
     "text": [
      "{'id': 233, 'first_name': 'Joy', 'last_name': 'deep', 'email': 'Joy@gmail.com', 'subjects': ['math'], 'age': 20}\n",
      "{'id': 234, 'first_name': 'Ram', 'last_name': 'singh', 'email': 'Joi@hashedin.com', 'subjects': ['math', 'art'], 'age': 25}\n",
      "{'id': 235, 'first_name': 'Jodt', 'last_name': 'deep', 'email': 'max@gmail.com', 'subjects': ['art', 'music'], 'age': 27}\n"
     ]
    }
   ],
   "source": [
    "#Here if you used round bracket then it becomes a generator\n",
    "nee = ( i for i in Users if \"math\" in i[\"subjects\"] or \"art\" in i[\"subjects\"] )\n",
    "for i in nee:\n",
    "    print(i)"
   ]
  },
  {
   "cell_type": "markdown",
   "metadata": {},
   "source": [
    "Q1-c. Find the list of all users whose email address has domain as hashedin.com in following\n",
    "format.\n",
    "Output - [\n",
    "{\n",
    "\"id\": 234,\n",
    "\"email\" : \"Joi@hashedin.com\",\n",
    "},\n",
    "{\n",
    "\"id\": 236,\n",
    "\"email\" : \"himan@hashedin.com\",\n",
    "}\n",
    "]"
   ]
  },
  {
   "cell_type": "code",
   "execution_count": 15,
   "metadata": {},
   "outputs": [
    {
     "name": "stdout",
     "output_type": "stream",
     "text": [
      "[{'id': 234, 'email': 'Joi@hashedin.com'}, {'id': 236, 'email': 'himan@hashedin.com'}]\n"
     ]
    }
   ],
   "source": [
    "#[ dict(id=i['id'], email=i['email']) for i in Users if i[\"email\"].endswith(\"hashedin.com\") ] \n",
    "print([ {'id':i['id'], 'email':i['email']} for i in Users if i[\"email\"].endswith(\"hashedin.com\") ] )"
   ]
  },
  {
   "cell_type": "markdown",
   "metadata": {},
   "source": [
    "Q1-d. Find the list of all users whose age is in between 20 to 25."
   ]
  },
  {
   "cell_type": "code",
   "execution_count": 71,
   "metadata": {},
   "outputs": [
    {
     "name": "stdout",
     "output_type": "stream",
     "text": [
      "[{'id': 233, 'first_name': 'Joy', 'last_name': 'deep', 'email': 'Joy@gmail.com', 'subjects': ['math'], 'age': 20}, {'id': 234, 'first_name': 'Ram', 'last_name': 'singh', 'email': 'Joi@hashedin.com', 'subjects': ['math', 'art'], 'age': 25}]\n"
     ]
    }
   ],
   "source": [
    "print([ i for i in Users if i[\"age\"] >= 20 and i[\"age\"] <= 25 ])"
   ]
  },
  {
   "cell_type": "code",
   "execution_count": 3,
   "metadata": {},
   "outputs": [
    {
     "name": "stdout",
     "output_type": "stream",
     "text": [
      "[{234, 'Joi@hashedin.com'}, {'himan@hashedin.com', 236}]\n"
     ]
    }
   ],
   "source": [
    "new_user3=[{i[\"id\"],i[\"email\"]} for i in Users if i[\"email\"].endswith(\"hashedin.com\")]\n",
    "print(new_user3)"
   ]
  },
  {
   "cell_type": "markdown",
   "metadata": {},
   "source": [
    "Regular Expression"
   ]
  },
  {
   "cell_type": "code",
   "execution_count": 20,
   "metadata": {},
   "outputs": [
    {
     "name": "stdout",
     "output_type": "stream",
     "text": [
      "['Hello', 'I', 'am', 'Hello', 'neethu']\n"
     ]
    }
   ],
   "source": [
    "import re\n",
    "my_str = \"Hello I am Hello neethu\"\n",
    "x = re.findall(\"[A-Z|a-z]+\",my_str)\n",
    "print(x)"
   ]
  },
  {
   "cell_type": "code",
   "execution_count": 28,
   "metadata": {},
   "outputs": [
    {
     "name": "stdout",
     "output_type": "stream",
     "text": [
      "Namaste I am Namaste neethu amam\n",
      "Namaste I am Namaste neethu amam\n"
     ]
    }
   ],
   "source": [
    "import re\n",
    "my_str = \"Hello I am Hello neethu amam\"\n",
    "x = re.sub(\"Hello\",\"Namaste\",my_str)\n",
    "print(x)\n",
    "y = my_str.replace(\"Hello\",\"Namaste\")\n",
    "print(y)"
   ]
  },
  {
   "cell_type": "code",
   "execution_count": 61,
   "metadata": {},
   "outputs": [
    {
     "name": "stdout",
     "output_type": "stream",
     "text": [
      "Present\n"
     ]
    }
   ],
   "source": [
    "import re\n",
    "my_str = \"Hello I am Hello neethu\"\n",
    "if re.search(\"Hello\",my_str):\n",
    "    print(\"Present\")"
   ]
  },
  {
   "cell_type": "code",
   "execution_count": 81,
   "metadata": {},
   "outputs": [
    {
     "name": "stdout",
     "output_type": "stream",
     "text": [
      "0\n",
      "1\n",
      "2\n",
      "3\n",
      "4\n",
      "5\n",
      "6\n",
      "7\n",
      "8\n",
      "9\n"
     ]
    }
   ],
   "source": [
    "y = (x for x in range(10))\n",
    "type(y)\n",
    "while True:\n",
    "    try :\n",
    "        print(next(y))\n",
    "    except Exception as e:\n",
    "        break"
   ]
  },
  {
   "cell_type": "code",
   "execution_count": 2,
   "metadata": {},
   "outputs": [
    {
     "name": "stdout",
     "output_type": "stream",
     "text": [
      "0\n",
      "1\n",
      "2\n",
      "3\n",
      "4\n",
      "5\n",
      "6\n",
      "7\n",
      "8\n",
      "9\n"
     ]
    },
    {
     "ename": "StopIteration",
     "evalue": "",
     "output_type": "error",
     "traceback": [
      "\u001b[1;31m---------------------------------------------------------------------------\u001b[0m",
      "\u001b[1;31mStopIteration\u001b[0m                             Traceback (most recent call last)",
      "\u001b[1;32m<ipython-input-2-5f8d19d568ef>\u001b[0m in \u001b[0;36m<module>\u001b[1;34m\u001b[0m\n\u001b[0;32m      1\u001b[0m \u001b[0my\u001b[0m \u001b[1;33m=\u001b[0m \u001b[0miter\u001b[0m\u001b[1;33m(\u001b[0m\u001b[0mrange\u001b[0m\u001b[1;33m(\u001b[0m\u001b[1;36m10\u001b[0m\u001b[1;33m)\u001b[0m\u001b[1;33m)\u001b[0m\u001b[1;33m\u001b[0m\u001b[1;33m\u001b[0m\u001b[0m\n\u001b[0;32m      2\u001b[0m \u001b[1;32mwhile\u001b[0m \u001b[1;32mTrue\u001b[0m\u001b[1;33m:\u001b[0m\u001b[1;33m\u001b[0m\u001b[1;33m\u001b[0m\u001b[0m\n\u001b[1;32m----> 3\u001b[1;33m     \u001b[0mprint\u001b[0m\u001b[1;33m(\u001b[0m\u001b[0mnext\u001b[0m\u001b[1;33m(\u001b[0m\u001b[0my\u001b[0m\u001b[1;33m)\u001b[0m\u001b[1;33m)\u001b[0m\u001b[1;33m\u001b[0m\u001b[1;33m\u001b[0m\u001b[0m\n\u001b[0m",
      "\u001b[1;31mStopIteration\u001b[0m: "
     ]
    }
   ],
   "source": [
    "y = iter(range(10))\n",
    "while True:\n",
    "    print(next(y))"
   ]
  },
  {
   "cell_type": "code",
   "execution_count": 31,
   "metadata": {},
   "outputs": [
    {
     "name": "stdout",
     "output_type": "stream",
     "text": [
      "[0, 1, 2, 3, 4, 5, 6, 7, 8, 9]\n",
      "[9, 8, 7, 6, 5, 4, 3, 2, 1, 0]\n",
      "[0, 1, 2, 3, 4, 5, 6, 7, 8, 9]\n",
      "[9, 8, 7, 6, 5, 4, 3, 2, 1, 0]\n",
      "[9, 8, 7, 6, 5, 4, 3, 2, 1, 0, 11, 'a', 'b']\n",
      "b\n",
      "8\n",
      "<enumerate object at 0x000001EB6738FBD8>\n"
     ]
    }
   ],
   "source": [
    "my_list = list(range(10))\n",
    "print(my_list)\n",
    "my_list.reverse()\n",
    "print(my_list)\n",
    "print(sorted(my_list))\n",
    "print(my_list)\n",
    "my_list.append(11)\n",
    "my_list.extend(['a','b'])\n",
    "print(my_list)\n",
    "y = my_list.pop()\n",
    "print(y)\n",
    "my_list.remove('a')\n",
    "del my_list[0]\n",
    "print(my_list.index(0))\n",
    "print(enumerate(my_list))"
   ]
  },
  {
   "cell_type": "code",
   "execution_count": 18,
   "metadata": {},
   "outputs": [],
   "source": [
    "nee = (12,2,3,3,4)"
   ]
  },
  {
   "cell_type": "code",
   "execution_count": 17,
   "metadata": {},
   "outputs": [
    {
     "name": "stdout",
     "output_type": "stream",
     "text": [
      "(12, 2, 3, 3, 4)\n"
     ]
    }
   ],
   "source": [
    "print(nee)"
   ]
  },
  {
   "cell_type": "code",
   "execution_count": 7,
   "metadata": {},
   "outputs": [
    {
     "data": {
      "text/plain": [
       "2"
      ]
     },
     "execution_count": 7,
     "metadata": {},
     "output_type": "execute_result"
    }
   ],
   "source": [
    "nee[1]"
   ]
  },
  {
   "cell_type": "code",
   "execution_count": 12,
   "metadata": {},
   "outputs": [],
   "source": [
    "nee_set = {4,1,2,3,4}"
   ]
  },
  {
   "cell_type": "code",
   "execution_count": 13,
   "metadata": {},
   "outputs": [
    {
     "data": {
      "text/plain": [
       "{1, 2, 3, 4}"
      ]
     },
     "execution_count": 13,
     "metadata": {},
     "output_type": "execute_result"
    }
   ],
   "source": [
    "nee_set"
   ]
  },
  {
   "cell_type": "code",
   "execution_count": 22,
   "metadata": {},
   "outputs": [
    {
     "data": {
      "text/plain": [
       "('z', 'z', 'a', 'd', 'b', 'f', 'g', 'c')"
      ]
     },
     "execution_count": 22,
     "metadata": {},
     "output_type": "execute_result"
    }
   ],
   "source": [
    "tuple(['z','z','a','d','b','f','g','c'])"
   ]
  },
  {
   "cell_type": "code",
   "execution_count": 5,
   "metadata": {},
   "outputs": [
    {
     "data": {
      "text/plain": [
       "True"
      ]
     },
     "execution_count": 5,
     "metadata": {},
     "output_type": "execute_result"
    }
   ],
   "source": [
    "a.endswith(\"@abc.com\")"
   ]
  },
  {
   "cell_type": "code",
   "execution_count": 3,
   "metadata": {},
   "outputs": [],
   "source": [
    "#Special case for dictiornary\n",
    "my_dict = dict(one=1, two=2, three=3)"
   ]
  },
  {
   "cell_type": "code",
   "execution_count": 4,
   "metadata": {},
   "outputs": [
    {
     "data": {
      "text/plain": [
       "{'one': 1, 'two': 2, 'three': 3}"
      ]
     },
     "execution_count": 4,
     "metadata": {},
     "output_type": "execute_result"
    }
   ],
   "source": [
    "my_dict"
   ]
  },
  {
   "cell_type": "code",
   "execution_count": 26,
   "metadata": {},
   "outputs": [
    {
     "name": "stdout",
     "output_type": "stream",
     "text": [
      "['_abc_@gmail.com', 'cppatels8@gmail.com', 'c@gmail.com', 'apple@abc..com', 'apple@abc.c.om', 'apple@abc.com']\n"
     ]
    }
   ],
   "source": [
    "#Q2. Given a list of email ids, write a program to return list of valid email ids.\n",
    "import re\n",
    "my_list = [\"_abc_@gmail.com\",\"cppatels8@gmail.com\", \"a.com\", \"b@@com\", \"c@gmail.com\", \"abc.com\",\"apple@abc..com\",\"@.com\",\"apple@.com\",\"apple@abc.c.om\",\"apple@abc.com\"]\n",
    "#new_list = [i for i in my_list if re.fullmatch(\"[\\w\\s]+?@[\\w\\s]+?\\.[\\w\\s]+\",i)]\n",
    "#new_list = [i for i in my_list if re.fullmatch(\"[\\w\\s]+@[\\w\\s]+\\.[\\w\\s]+\",i)]\n",
    "new_list = [i for i in my_list if re.match(\"(^[a-zA-Z0-9_.+-]+@[a-zA-Z0-9-]+\\.[a-zA-Z0-9-.]+$)\",i)]\n",
    "#new_list = [re.fullmatch(\".+?@.+?\\.[a-z]+\",i) for i in my_list]\n",
    "print(new_list)"
   ]
  },
  {
   "cell_type": "code",
   "execution_count": 28,
   "metadata": {},
   "outputs": [
    {
     "name": "stdout",
     "output_type": "stream",
     "text": [
      "['cppatels8@gmail.com', 'c@gmail.com']\n"
     ]
    }
   ],
   "source": [
    "import re\n",
    "Input = [\"cppatels8@gmail.com\", \"a.com\", \"b@com\", \"c@gmail.com\", \"abc.com\"]\n",
    "Output = [i for i in Input if re.match(\"(^[a-zA-Z0-9_.+-]+@[a-zA-Z0-9-]+\\.[a-zA-Z0-9-.]+$)\",i)]\n",
    "print(Output)"
   ]
  },
  {
   "cell_type": "markdown",
   "metadata": {},
   "source": [
    "Given a list of phone numbers write a program to find list of valid phone numbers. Valid\n",
    "phone number conditions -\n",
    "● 10 digits with no special characters, not starting with 0\n",
    "● 11 digits if it is starting from 0 and remaining 10 digits with no special characters\n",
    "● It’s fine if it starts from +91 and then 10 digits, first digit out of these 10 shouldn’t be 0\n",
    "Input = [‘+91000001111’, ‘+919000011111’, ‘09999911111’, ‘00999911111’, ‘‘09999911*11’’]\n",
    "Output = [‘+919000011111’, ‘09999911111’]"
   ]
  },
  {
   "cell_type": "code",
   "execution_count": null,
   "metadata": {},
   "outputs": [],
   "source": []
  },
  {
   "cell_type": "code",
   "execution_count": 13,
   "metadata": {},
   "outputs": [
    {
     "name": "stdout",
     "output_type": "stream",
     "text": [
      "0\n",
      "1\n",
      "1\n",
      "2\n",
      "3\n",
      "4\n"
     ]
    }
   ],
   "source": [
    "def natural_number():\n",
    "    for i in range(10):\n",
    "        yield i\n",
    "     \n",
    "n = natural_number()\n",
    "print(next(n))\n",
    "print(next(n))\n",
    "list2 = [1,2,3,4,5,6]\n",
    "temp = iter(list2)\n",
    "print(next(temp))\n",
    "print(next(temp))\n",
    "print(next(temp))\n",
    "print(next(temp))"
   ]
  },
  {
   "cell_type": "code",
   "execution_count": 11,
   "metadata": {},
   "outputs": [
    {
     "name": "stdout",
     "output_type": "stream",
     "text": [
      "B\n"
     ]
    }
   ],
   "source": [
    "class A:\n",
    "    def print_a():\n",
    "        print(\"A\")\n",
    "\n",
    "def b():\n",
    "    print(\"B\")\n",
    "A.print_a = b\n",
    "A.print_a()\n"
   ]
  },
  {
   "cell_type": "code",
   "execution_count": 12,
   "metadata": {},
   "outputs": [
    {
     "name": "stdout",
     "output_type": "stream",
     "text": [
      "[{'RCMContentforVCEVision™ComplianceChecker': ['xccdf_com.vce_value_vision_content_version'], 'VCEVision™SystemLibrary': ['xccdf_com.vce_value_vision_version'], 'DellEMCPowerPathforRHEL': ['xccdf_com.vce_value_powerpath_version'], 'DellEMCPowerPath/VE5.7forVMware': ['xccdf_com.vce_value_powerpath_version'], 'DellEMCPowerPath/VE5.8forVMware': ['xccdf_com.vce_value_powerpath_version'], 'DellEMCPowerPath/VE5.9forVMware': ['xccdf_com.vce_value_powerpath_version'], 'DellEMCPowerPath/VE6.0forVMware': ['xccdf_com.vce_value_powerpath_version'], 'CiscoRackMountServerFirmwareforC200M1': ['xccdf_com.vce_value_amp_C200_M1_version'], 'CiscoRackMountServerFirmwareforC200M2': ['xccdf_com.vce_value_amp_C200_M2_version', 'xccdf_com.vce_value_C200_M2_version'], 'CiscoRackMountServerFirmwareforC220M3': ['xccdf_com.vce_value_amp_C220_M3_version', 'xccdf_com.vce_value_C220_M3_version'], 'CiscoRackMountServerFirmwareforC220M3w/E5-26xx(SandyBridge)': ['xccdf_com.vce_value_amp_C220_M3_version', 'xccdf_com.vce_value_C220_M3_version'], 'CiscoRackMountServerFirmwareforC220M3w/E5-26xxv2(IvyBridge)': ['xccdf_com.vce_value_amp_C220_M3_version', 'xccdf_com.vce_value_C220_M3_version'], 'CiscoRackMountServerFirmwareforC240M3w/E5-26xx(SandyBridge)': ['xccdf_com.vce_value_amp_C240_M3_version'], 'CiscoRackMountServerFirmwareforC240M3w/E5-26xxv2(IvyBridge)': ['xccdf_com.vce_value_amp_C240_M3_version'], 'CiscoRackMountServerFirmwareforC480M5w/CPU-51XX,61XX,81XX(Skylake)': ['xccdf_com.vce_value_C480_M5_version', 'xccdf_com.vce_value_C480_M5_version'], 'CiscoBladeServerFirmwareforB200M5w/CPU(Cascadelake)': ['xccdf_com.vce_value_b200_m5_software_version'], 'CiscoBladeServerFirmwareforB480M5w/CPU(Cascadelake)': ['xccdf_com.vce_value_b480_m5_software_version'], 'CiscoRackServerFirmwareforC220M5w/CPU(Cascadelake)': ['xccdf_com.vce_value_C220_M5_version'], 'CiscoRackServerFirmwareforC240M5w/CPU(Cascadelake)': ['xccdf_com.vce_value_c240_m5_software_version'], 'CiscoRackServerFirmwareforC480M5w/CPU(Cascadelake)': ['xccdf_com.vce_value_C480_M5_version'], 'CiscoUCSManager': ['xccdf_com.vce_value_ucsm_version'], 'CiscoUCSFabricInterconnect62xxUPandCiscoUCS5108with2104XP/2204XP/2208XPSeriesFabricExtenders': ['xccdf_com.vce_value_chassis_iom_version'], 'CiscoUCSFabricInterconnect62xxandCiscoUCSBladeServerChassis5108with2204/2208I/Omodules': ['xccdf_com.vce_value_chassis40g_iom_version'], 'CiscoUCSFabricInterconnect6332andCiscoUCSBladeServerChassis5108with2304I/Omodules': ['xccdf_com.vce_value_chassis40g_iom_version'], 'CiscoUCSFabricInterconnect6248UPandCiscoUCS5108with2104XP/2204XP/2208XPSeriesFabricExtenders': ['xccdf_com.vce_value_chassis_iom_version'], 'CiscoUCSFabricInterconnect61xx/62xxandCiscoUCSBladeServerChassis5108with2104/2204/2208I/Omodules': ['xccdf_com.vce_value_chassis_iom_version'], 'CiscoUCSFabricInterconnect6120/6140/6248andCiscoUCS5108with2104/2204/2208I/Omodules': ['xccdf_com.vce_value_chassis_iom_version'], 'CiscoUCSFabricInterconnect6454andCiscoUCSBladeServerChassis5108with2200,2304I/Omodules': ['xccdf_com.vce_value_chassis_iom_version'], 'CiscoUCSFabricInterconnect6332-16UPandCiscoUCSBladeServerChassis5108with2304I/Omodules': ['xccdf_com.vce_value_chassis40g_iom_version'], 'CiscoUCSFabricInterconnect6454andCiscoUCSBladeServerChassis5108with2200I/Omodules': ['xccdf_com.vce_value_chassis40g_iom_version'], 'CiscoBladeServerFirmwareforB200M1': ['xccdf_com.vce_value_b200_m1_software_version'], 'CiscoBladeServerFirmwareforB200M2': ['xccdf_com.vce_value_b200_m2_software_version'], 'CiscoBladeServerFirmwareforB200M3': ['xccdf_com.vce_value_b200_m3_software_version'], 'CiscoBladeServerFirmwareforB200M3w/E5-26xx(SandyBridge)': ['xccdf_com.vce_value_b200_m3_software_version'], 'CiscoBladeServerFirmwareforB200M3w/E5-26xxv2(IvyBridge)': ['xccdf_com.vce_value_b200_m3_software_version'], 'CiscoBladeServerFirmwareforB200M4w/E5-26xxv3(IvyBridge)': ['xccdf_com.vce_value_b200_m4_software_version'], 'CiscoBladeServerFirmwareforB200M4w/E5-26xxv3(Haswell)': ['xccdf_com.vce_value_b200_m4_software_version'], 'CiscoBladeServerFirmwareforB200M4w/E5-26xxv4(Broadwell)': ['xccdf_com.vce_value_b200_m4_software_version'], 'CiscoBladeServerFirmwareforB200M5w/IntelScalableProcessor(Bronze/Silver/Gold/Platinum)': ['xccdf_com.vce_value_b200_m5_software_version'], 'CiscoBladeServerFirmwareforB200M5(Skylake)': ['xccdf_com.vce_value_b200_m5_software_version'], 'CiscoBladeServerFirmwareforB22M3': ['xccdf_com.vce_value_b22_m3_software_version'], 'CiscoBladeServerFirmwareforB22M3w/E5-24xx(SandyBridge)': ['xccdf_com.vce_value_b22_m3_software_version'], 'CiscoBladeServerFirmwareforB22M3w/E5-24xxv2(IvyBridge)': ['xccdf_com.vce_value_b22_m3_software_version'], 'CiscoBladeServerFirmwareforB230M1': ['xccdf_com.vce_value_b230_m1_software_version'], 'CiscoBladeServerFirmwareforB230M2': ['xccdf_com.vce_value_b230_m2_software_version'], 'CiscoBladeServerFirmwareforB250M2': ['xccdf_com.vce_value_b250_m2_software_version'], 'CiscoBladeServerFirmwareforB260M4w/E7-28xxv2(IvyBridge)': ['xccdf_com.vce_value_b260_m4_software_version'], 'CiscoBladeServerFirmwareforB260M4w/E7-48xxv2(IvyBridge)': ['xccdf_com.vce_value_b260_m4_software_version'], 'CiscoBladeServerFirmwareforB260M4w/E7-88xxv2(IvyBridge)': ['xccdf_com.vce_value_b260_m4_software_version'], 'CiscoBladeServerFirmwareforB260M4w/E7-48xxv3(Haswell)': ['xccdf_com.vce_value_b260_m4_software_version'], 'CiscoBladeServerFirmwareforB260M4w/E7-88xxv3(Haswell)': ['xccdf_com.vce_value_b260_m4_software_version'], 'CiscoBladeServerFirmwareforB260M4w/E7-48xxv4(Broadwell)': ['xccdf_com.vce_value_b260_m4_software_version'], 'CiscoBladeServerFirmwareforB260M4w/E7-88xxv4(Broadwell)': ['xccdf_com.vce_value_b260_m4_software_version'], 'CiscoBladeServerFirmwareforB420M3': ['xccdf_com.vce_value_b420_m3_software_version'], 'CiscoBladeServerFirmwareforB420M3w/E5-46xx(SandyBridge)': ['xccdf_com.vce_value_b420_m3_software_version'], 'CiscoBladeServerFirmwareforB420M3w/E5-46xxv2(IvyBridge)': ['xccdf_com.vce_value_b420_m3_software_version'], 'CiscoBladeServerFirmwareforB420M4w/E5-46xxv3(Haswell)': ['xccdf_com.vce_value_b420_m4_software_version'], 'CiscoBladeServerFirmwareforB420M4w/E5-46xxv4(Broadwell)': ['xccdf_com.vce_value_b420_m4_software_version'], 'CiscoBladeServerFirmwareforB440M1': ['xccdf_com.vce_value_b440_m1_software_version'], 'CiscoBladeServerFirmwareforB440M2': ['xccdf_com.vce_value_b440_m2_software_version'], 'CiscoBladeServerFirmwareforB460M4w/E7-48xxv2(IvyBridge)': ['xccdf_com.vce_value_b260_m4_software_version'], 'CiscoBladeServerFirmwareforB460M4w/E7-88xxv2(IvyBridge)': ['xccdf_com.vce_value_b260_m4_software_version'], 'CiscoBladeServerFirmwareforB460M4w/E7-48xxv3(Haswell)': ['xccdf_com.vce_value_b260_m4_software_version'], 'CiscoBladeServerFirmwareforB460M4w/E7-88xxv3(Haswell)': ['xccdf_com.vce_value_b260_m4_software_version'], 'CiscoBladeServerFirmwareforB460M4w/E7-48xxv4(Broadwell)': ['xccdf_com.vce_value_b260_m4_software_version'], 'CiscoBladeServerFirmwareforB460M4w/E7-88xxv4(Broadwell)': ['xccdf_com.vce_value_b260_m4_software_version'], 'CiscoBladeServerFirmwareforB480M5w/CPU-51XX,61XX,81XX(Skylake)': ['xccdf_com.vce_value_b480_m5_software_version'], 'CiscoRackMountServerFirmwareforC220M4w/E5-26xxv3(Haswell)': ['xccdf_com.vce_value_amp_C220_M4_version', 'xccdf_com.vce_value_C220_M4_version'], 'CiscoRackMountServerFirmwareforC220M4w/E5-26xxv4(Broadwell)': ['xccdf_com.vce_value_amp_C220_M4_version', 'xccdf_com.vce_value_C220_M4_version'], 'CiscoRackMountServerFirmwareforC240M4w/E5-26xxv3(Haswell)': ['xccdf_com.vce_value_C240_M4_version'], 'CiscoRackMountServerFirmwareforC240M4w/E5-26xxv4(Haswell)': ['xccdf_com.vce_value_C240_M4_version'], 'CiscoRackMountServerFirmwareforC240M4w/E5-26xxv4(Broadwell)': ['xccdf_com.vce_value_C240_M4_version'], 'CiscoRackMountServerFirmwareforB220SFF/LFFM5w/IntelScalableProcessor(Bronze/Silver/Gold/Platinum)': ['xccdf_com.vce_value_b220_m5_software_version'], 'CiscoRackMountServerFirmwareforB240SFF/LFFM5w/IntelScalableProcessor(Bronze/Silver/Gold/Platinum)': ['xccdf_com.vce_value_b240_m5_software_version'], 'CiscoRackMountServerFirmwareforC220SFF/LFFM4w/E5-26xxv4(Broadwell)': ['xccdf_com.vce_value_amp_C220_M4_version', 'xccdf_com.vce_value_C220_M4_version'], 'CiscoRackMountServerFirmwareforC220SFF/LFFM5w/IntelScalableProcessor(Bronze/Silver/Gold/Platinum)': ['xccdf_com.vce_value_C220_M5_version'], 'CiscoRackMountServerFirmwareforC220M5SXw/IntelXeonSilver4114': ['xccdf_com.vce_value_amp_C220_M5_version'], 'CiscoRackMountServerFirmwareforC240SFF/LFFM4w/E5-26xxv4(Broadwell)': ['xccdf_com.vce_value_C240_M4_version'], 'CiscoRackMountServerFirmwareforC240SFF/LFFM5w/IntelScalableProcessor(Bronze/Silver/Gold/Platinum)': ['xccdf_com.vce_value_c240_m5_software_version'], 'CiscoRackMountServerFirmwareforC220M4w/E5-26xxv3(Haswell)_TECHEXT': ['xccdf_com.vce_value_techext_C220_M4_version'], 'CiscoRackMountServerFirmwareforC240M4w/E5-26xxv3(Haswell)_TECHEXT': ['xccdf_com.vce_value_techext_C240_M4_version'], 'CiscoRackMountServerFirmwareforC240SFF/LFFM5w/IntelScalableProcessor(Bronze/Silver/Gold/Platinum)_TECHEXT': ['xccdf_com.vce_value_c240_m5_software_version'], 'CiscoRackMountServerFirmwareforC220SFF/LFFM5w/IntelScalableProcessor(Bronze/Silver/Gold/Platinum)_TECHEXT': ['xccdf_com.vce_value_techext_C220_M5_version'], 'CiscoFabricInterconnect62xxand2232FEXmodules': ['xccdf_com.vce_value_ucs_fexmodule_version', 'xccdf_com.vce_value_chassis_iom_version'], 'VxRackControllerBIOSFirmwareforEMCServer(S2600GZ)': ['xccdf_com.vce_value_kylin_hardware_version'], 'VxRackControllerBMCFirmwareforEMCServer(S2600GZ)': ['xccdf_com.vce_value_kylin_firmware_version'], 'VxRackControllerBIOSFirmwareforKylin(S2600GZ)': ['xccdf_com.vce_value_kylin_hardware_version'], 'VxRackControllerBMCFirmwareforKylin(S2600GZ)': ['xccdf_com.vce_value_kylin_firmware_version'], 'VxRackBIOSforEMCServer(D51B)': ['xccdf_com.vce_value_quanta_hardware_d51b_version'], 'VxRackBMCFirmwareforEMCServer(D51B)': ['xccdf_com.vce_value_quanta_firmware_d51b_version'], 'BMCFirmwareforEMCServer(D51B)': ['xccdf_com.vce_value_quanta_firmware_d51b_version'], 'VxRackBIOSforEMCServer(T41S)': ['xccdf_com.vce_value_quanta_hardware_t41s_version'], 'VxRackBMCFirmwareforEMCServer(T41S)': ['xccdf_com.vce_value_quanta_firmware_t41s_version'], 'BMCFirmwareforEMCServer(T41S)': ['xccdf_com.vce_value_quanta_firmware_t41s_version'], 'VxRackBIOSforDellServerAmp(R630)': ['xccdf_com.vce_value_dell_hardware_r630_version'], 'VXMA-iDRAC/LifecycleControllerFirmwareforDellR630': ['xccdf_com.vce_value_dell_firmware_r630_amp_version'], 'DelliDRAC/LifecycleControllerFirmware': ['xccdf_com.vce_value_dell_firmware_server_version', 'xccdf_com.vce_value_dell_firmware_r630_amp_comp_version'], 'DellBIOSFirmware': ['xccdf_com.vce_value_dell_hardware_r730_version', 'xccdf_com.vce_value_dell_hardware_r630_server_comp_version'], 'VXMA-DellBIOSFirmwareforDellR630': ['xccdf_com.vce_value_dell_hardware_r630_server_version'], 'DellBIOSFirmwareforDellR640/R740/R740xd': ['xccdf_com.vce_value_dell_hardware_r640_server_version', 'xccdf_com.vce_value_dell_hardware_r740_version'], 'DelliDRAC/LifecycleControllerFirmwareforDellR640/R740': ['xccdf_com.vce_value_dell_hardware_idrac_r640_server_version', 'xccdf_com.vce_value_dell_hardware_idrac_r740_server_version'], 'CiscoNexus3048Switch': ['xccdf_com.vce_value_nexus_3048_version'], 'CiscoNexus3064-TSwitch': ['xccdf_com.vce_value_nexus_3064T_version'], 'CiscoNexus3132QXSwitch': ['xccdf_com.vce_value_nexus_3132QX_version'], 'CiscoNexus3172TQSwitch': ['xccdf_com.vce_value_nexus_3172TQ_version'], 'CiscoNexus3164QSwitch': ['xccdf_com.vce_value_nexus_3164Q_version'], 'CiscoNexus5xxCiscoNexus3172TQSwitchxSwitch': ['xccdf_com.vce_value_nexus_5xxx_version'], 'CiscoNexus50xxSwitch': ['xccdf_com.vce_value_nexus_50xx_version'], 'CiscoNexus55xxSwitch': ['xccdf_com.vce_value_nexus_55xx_version'], 'CiscoNexus55xxSwitch_isilon': ['xccdf_com.vce_value_nexus_55xx_version'], 'CiscoNexus5010Switch': ['xccdf_com.vce_value_nexus_5010_version'], 'CiscoNexus5020Switch': ['xccdf_com.vce_value_nexus_5020_version'], 'CiscoNexus5548Switch': ['xccdf_com.vce_value_nexus_5548_version'], 'CiscoNexus7010Switch': ['xccdf_com.vce_value_nexus_7010_version'], 'CiscoMDS9148SSwitch': ['xccdf_com.vce_value_mds_9148s_version'], 'CiscoMDS9148TSwitch': ['xccdf_com.vce_value_mds_9148T_version'], 'CiscoMDS9148Switch': ['xccdf_com.vce_value_mds_9148_version'], 'CiscoMDS9222iSwitch': ['xccdf_com.vce_value_mds_9222i_version'], 'CiscoMDS9396SSwitch': ['xccdf_com.vce_value_mds_9396S_version'], 'CiscoMDS9396TSwitch': ['xccdf_com.vce_value_mds_9396T_version'], 'CiscoMDS9506Switch': ['xccdf_com.vce_value_mds_9506_version'], 'CiscoMDS9509Switch': ['xccdf_com.vce_value_mds_9509_version'], 'CiscoMDS9513Switch': ['xccdf_com.vce_value_mds_9513_version'], 'CiscoMDS9706Switch': ['xccdf_com.vce_value_mds_9706_version'], 'CiscoMDS9710Switch': ['xccdf_com.vce_value_mds_9710_version'], 'CiscoNexus9396Switch': ['xccdf_com.vce_value_nexus_9396_version'], 'CiscoNexus9332PQSwitch': ['xccdf_com.vce_value_nexus_9332PQ_version'], 'CiscoNexus9372PX-ESwitch': ['xccdf_com.vce_value_nexus_9372PXE_version'], 'CiscoNexus9372PX-ESwitchBIOS': ['xccdf_com.vce_value_nexus_9372PXE_bios_version'], 'CiscoNexus93180YC-EXSwitch': ['xccdf_com.vce_value_nexus_93180YCEX_version'], 'CiscoNexus93180YC-EXSwitch_isilon': ['xccdf_com.vce_value_nexus_93180YCEX_version'], 'CiscoNexus9336C-FX2Switch': ['xccdf_com.vce_value_nexus_9336C_FX2_version'], 'CiscoCatalyst3750X-48T-S': ['xccdf_com.vce_value_catalyst_3750_switch_version'], 'CiscoCatalyst3750X-24T-S': ['xccdf_com.vce_value_catalyst_3750_switch_version'], 'CiscoNexus1000VVirtualSupervisorModule(VSM)andVirtualEthernetModule(VEM)': ['xccdf_com.vce_value_nexus_1000V_version'], 'CiscoNexus1000V(AdvancedEdition)VirtualSupervisorModule(VSM)andVirtualEthernetModule(VEM)': ['xccdf_com.vce_value_nexus_1000V_version'], 'CiscoNexus1000V(EssentialEdition)VirtualSupervisorModule(VSM)andVirtualEthernetModule(VEM)': ['xccdf_com.vce_value_nexus_1000V_version'], 'VMwarevSphereHypervisorESXi5.1(EnterpriseEdition)': ['xccdf_com.vce_value_esxi_version', 'xccdf_com.vce_value_esxi_build'], 'VMwarevSphereHypervisorESXi5.0forCiscoC-SeriesServer': ['xccdf_com.vce_value_esxi_version', 'xccdf_com.vce_value_esxi_build'], 'VMwarevSphereHypervisorESXi5.1': ['xccdf_com.vce_value_esxi_version', 'xccdf_com.vce_value_esxi_build'], 'VMwarevSphereHypervisorESXi5.1(EnterpriseEdition)forCiscoC-SeriesServer': ['xccdf_com.vce_value_esxi_version', 'xccdf_com.vce_value_esxi_build'], 'VMwarevSphereHypervisorESXi5.1(EnterpriseEdition)forsystemswithCiscoUCS61xx/62xxseriesFabricInterconnects': ['xccdf_com.vce_value_esxi_version', 'xccdf_com.vce_value_esxi_build'], 'VMwarevSphereHypervisorESXi5.1(StandardEdition)': ['xccdf_com.vce_value_esxi_version', 'xccdf_com.vce_value_esxi_build'], 'VMwarevSphereHypervisorESXi5.1(StandardEdition)forCiscoC-SeriesServer': ['xccdf_com.vce_value_esxi_version', 'xccdf_com.vce_value_esxi_build'], 'VMwarevSphereHypervisorESXi5.1forCiscoC-SeriesServer': ['xccdf_com.vce_value_esxi_version', 'xccdf_com.vce_value_esxi_build'], 'VMwarevSphereHypervisorESXi5.1forsystemswithCiscoUCS61xxseriesFabricInterconnects': ['xccdf_com.vce_value_esxi_version', 'xccdf_com.vce_value_esxi_build'], 'VMwarevSphereHypervisorESXi5.1forsystemswithCiscoUCS6248FabricInterconnects': ['xccdf_com.vce_value_esxi_version', 'xccdf_com.vce_value_esxi_build'], 'VMwarevSphereHypervisorESXi5.1forsystemswithCiscoUCS62xxseriesFabricInterconnects': ['xccdf_com.vce_value_esxi_version', 'xccdf_com.vce_value_esxi_build'], 'VMwarevSphereHypervisorESXi5.5(EnterpriseEdition)': ['xccdf_com.vce_value_esxi_version', 'xccdf_com.vce_value_esxi_build'], 'VMwarevSphereHypervisorESXi5.5(EnterpriseEdition)forCiscoC-SeriesServer': ['xccdf_com.vce_value_esxi_version', 'xccdf_com.vce_value_esxi_build'], 'VMwarevSphereHypervisorESXi5.5(EnterpriseEdition)forsystemswithCiscoUCS61xx/62xxseriesFabricInterconnects': ['xccdf_com.vce_value_esxi_version', 'xccdf_com.vce_value_esxi_build'], 'VMwarevSphereHypervisorESXi5.5(EnterpriseEdition)forsystemswithCiscoUCS62xxseriesFabricInterconnects': ['xccdf_com.vce_value_esxi_version', 'xccdf_com.vce_value_esxi_build'], 'VMwarevSphereHypervisorESXi6.0(EnterpriseEdition)forIntelx86x64Servers': ['xccdf_com.vce_value_esxi_version', 'xccdf_com.vce_value_esxi_build'], 'VMwarevSphereHypervisorESXi6.0forQuanta': ['xccdf_com.vce_value_esxi_version', 'xccdf_com.vce_value_esxi_build'], 'VMwarevSphereHypervisorESXi6.0forEMCServers(T41S,D51B)': ['xccdf_com.vce_value_esxi_version', 'xccdf_com.vce_value_esxi_build'], 'VMwarevSphereHypervisorESXi6.0forVxRackController(VXRC)': ['xccdf_com.vce_value_esxi_version', 'xccdf_com.vce_value_esxi_build'], 'VMwarevSphereHypervisorESXi6.0forDellR630': ['xccdf_com.vce_value_esxi_version', 'xccdf_com.vce_value_esxi_build'], 'VMwarevSphereHypervisorESXi6.7(EnterpriseEdition)forIntelx86x64Servers': ['xccdf_com.vce_value_esxi_version', 'xccdf_com.vce_value_esxi_build'], 'VMwareESXienicDriverforCiscoUCS1240and1280VICs': ['xccdf_com.vce_value_enic_driver_1240_1280_version'], 'VMwareESXienicDriverforCiscoUCS1240,1280,1340,and1380VICs': ['xccdf_com.vce_value_enic_driver_1240_1280_version'], 'VMwareESXinenicDriverforCiscoUCS1240,1280,1340,and1380VICs': ['xccdf_com.vce_value_nenic_driver_1240_1280_1340_1380_version'], 'VMwareESXinenicDriverforCiscoUCS1340and1380VirtualInterfaceCards': ['xccdf_com.vce_value_nenic_driver_1240_1280_1340_1380_version'], 'VMwareESXinenicDriverforCiscoUCS1385and1387VirtualInterfaceCards': ['xccdf_com.vce_value_nenic_driver_1240_1280_1340_1380_version'], 'VmwareESXinenicDriverforCiscoUCS1440and1480VirtualInterfaceCards': ['xccdf_com.vce_value_nenic_driver_1240_1280_1340_1380_version'], 'VMwareESXinfnicDriverforCiscoUCS1227VIC(UCSmanagedC-SeriesServers)': ['xccdf_com.vce_value_nfnic_driver_UCS_1457_version'], 'VMwareESXinfnicDriverforCiscoUCS1340and1380VirtualInterfaceCards': ['xccdf_com.vce_value_nfnic_driver_version'], 'VMwareESXinfnicDriverforCiscoUCS1385and1387VirtualInterfaceCards': ['xccdf_com.vce_value_nfnic_driver_version'], 'VmwareESXinfnicDriverforCiscoUCS1440and1480VirtualInterfaceCards': ['xccdf_com.vce_value_nfnic_driver_version'], 'VMwareESXinfnicDriverforCiscoUCS1455and1457VirtualInterfaceCards': ['xccdf_com.vce_value_nfnic_driver_version'], 'VMwareESX/ESXienicDriverforCiscoUCSM81KR,1240,and1280VICs': ['xccdf_com.vce_value_enic_driver_1240_1280_version'], 'VMwareESXienicDriverforCiscoUCS1225VIC': ['xccdf_com.vce_value_enic_driver_1240_1280_version'], 'VMwareESXienicDriverforCiscoUCS1227VIC': ['xccdf_com.vce_value_enic_driver_1240_1280_version'], 'VMwareESXinenicDriverforCiscoUCS1227VIC(UCSmanagedC-SeriesServers)': ['xccdf_com.vce_value_nenic_driver_1240_1280_1340_1380_version'], 'VMwareESXinenicDriverforCiscoUCS1227VIC': ['xccdf_com.vce_value_nenic_driver_1227_VIC_version'], 'VMwareESXinenicDriverforCiscoUCS1457VirtualInterfaceCards': ['xccdf_com.vce_value_nenic_driver_1227_VIC_version'], 'VMwareESXinenicDriverforCiscoUCS1240,1280,1340,1380and1387VICs': ['xccdf_com.vce_value_nenic_driver_1240_1280_1340_1380_version'], 'VMwareESXinfnicDriverforCiscoUCS1240,1280,1340,1380and1387VICs': ['xccdf_com.vce_value_nfnic_driver_version'], 'VMwareESXinfnicDriverforCiscoUCS1240,1280,1340,and1380VICs': ['xccdf_com.vce_value_nfnic_driver_version'], 'VMwareESXinfnicDriverforCiscoUCS1227VIC': ['xccdf_com.vce_value_fnic_driver_version'], 'VMwareESXinenicDriverforCiscoUCS1455and1457VirtualInterfaceCards': ['xccdf_com.vce_value_nenic_driver_1240_1280_1340_1380_version'], 'VmwareESXinenicDriverforCiscoUCS1495and1497VirtualInterfaceCards': ['xccdf_com.vce_value_nenic_driver_1240_1280_1340_1380_version'], 'VmwareESXinfnicDriverforCiscoUCS1495and1497VirtualInterfaceCards': ['xccdf_com.vce_value_nfnic_driver_version'], 'VMwareESXinfnicDriverforCiscoUCS1457VirtualInterfaceCards': ['xccdf_com.vce_value_fnic_driver_version'], 'VMwareESX/ESXifnicDriverforCiscoUCS1240and1280VICs': ['xccdf_com.vce_value_fnic_driver_version'], 'VMwareESXifnicDriverforCiscoUCS1227VIC(UCSmanagedC-SeriesServers)': ['xccdf_com.vce_value_nfnic_driver_version'], 'VMwareESX/ESXifnicDriverforCiscoUCS1240,1280,1340,and1380VICs': ['xccdf_com.vce_value_fnic_driver_version'], 'VMwareESXifnicDriverforCiscoUCS1240,1280,1340,and1380VICs': ['xccdf_com.vce_value_fnic_driver_version'], 'VMwareESX/ESXifnicDriverforCiscoUCSM81KR,1240,and1280VICs': ['xccdf_com.vce_value_fnic_driver_version'], 'VMwareESXifnicDriverforCiscoUCS1225VIC': ['xccdf_com.vce_value_fnic_driver_version'], 'VMwareNSXforvSphere': ['xccdf_com.vce_value_nsx_switch_version'], 'VMwarevSphereHypervisorESXi6.0': ['xccdf_com.vce_value_esxi_version', 'xccdf_com.vce_value_esxi_build'], 'VMwarevSphereHypervisorESXi6.5(EnterpriseEdition)forIntelx86x64Servers': ['xccdf_com.vce_value_esxi_version', 'xccdf_com.vce_value_esxi_build'], 'VMwarevSphereHypervisorESXi6.5(EnterpriseEdition)forCiscoC-SeriesServer': ['xccdf_com.vce_value_esxi_version', 'xccdf_com.vce_value_esxi_build'], 'VMwarevSphereHypervisorESXi6.5': ['xccdf_com.vce_value_esxi_version', 'xccdf_com.vce_value_esxi_build'], 'VMwarevCenterServerAppliance(DeployedasvCenter)': ['xccdf_com.vce_value_vcenter_version'], 'VMwarevCenterServerAppliance': ['xccdf_com.vce_value_vcenter_version'], 'DellEMCVNXe31xx/33xxOE': ['xccdf_com.vce_value_management_vnxe_version', 'xccdf_com.vce_value_storage_vnxe_version'], 'DellEMCVNXe32xxOE': ['xccdf_com.vce_value_management_vnxe_version', 'xccdf_com.vce_value_storage_vnxe_version'], 'DellEMCVNXe3xxxOE': ['xccdf_com.vce_value_management_vnxe_version', 'xccdf_com.vce_value_storage_vnxe_version'], 'DellEMCVNXOEforBlock': ['xccdf_com.vce_value_vnx_block_version'], 'DellEMCVNXOEforFile': ['xccdf_com.vce_value_vnx_file_version'], 'DellEMCVNXVG2/VG8Gateways': ['xccdf_com.vce_value_vnx_gateway_version'], 'DellEMCSymmetrixVMAX': ['xccdf_com.vce_value_symmetrix_vmax_version'], 'DellEMCSymmetrixVMAX100K/200K/400KwithHYPERMAXOS': ['xccdf_com.vce_value_symmetrix_vmax_version'], 'DellEMCSymmetrixVMAX100,200,400,250F/250FX/450F/450FX/850F/850FX/950F/950FXwithHYPERMAXOS': ['xccdf_com.vce_value_symmetrix_vmax_version'], 'DellEMCSymmetrixVMAX250F/250FX/450F/450FX/850F/850FX/950F/950FXwithHYPERMAXOS': ['xccdf_com.vce_value_symmetrix_vmax_version'], 'DellEMCSymmetrixVMAX/VMAXeArray': ['xccdf_com.vce_value_symmetrix_vmax_version'], 'DellEMCSymmetrixVMAXe': ['xccdf_com.vce_value_symmetrix_vmax_version'], 'DellEMCSymmetrixVMAX100K/200K/400K/450F/450FX/850F/850FXwithHYPERMAXOS': ['xccdf_com.vce_value_symmetrix_vmax_version'], 'DellEMCSymmetrixVMAX100K,200K,400K,450F,450FX,850F,850FXwithHYPERMAXOS': ['xccdf_com.vce_value_symmetrix_vmax_version'], 'DellEMCSymmetrixVMAX100K/200K/250F/250FX/400K/450F/450FX/850F/850FXwithHYPERMAXOS': ['xccdf_com.vce_value_symmetrix_vmax_version'], 'DellEMCSymmetrixVMAX100K/200K/250F/250FX/400K/450F/450FX/850F/850FX/950F/950FXwithHYPERMAXOS': ['xccdf_com.vce_value_symmetrix_vmax_version'], 'DellEMCVMAX250F/250FX/950F/950FXStorageArray': ['xccdf_com.vce_value_symmetrix_vmax_version'], 'DellEMCSymmetrixVMAX250F/250FX/950F/950FXwithPowerMaxOS': ['xccdf_com.vce_value_symmetrix_vmax_powermax_version'], 'DellEMCSymmetrixVMAX250F/250FX/950F/950FXwithHYPERMAXOS': ['xccdf_com.vce_value_symmetrix_vmax_version'], 'DellEMCPowerMax2000E/2000P/8000E/8000Pstoragearray': ['xccdf_com.vce_value_powermax_version'], 'DellEMCPowerMax2000E/2000P/8000E/8000PwithPowerMaxOS': ['xccdf_com.vce_value_powermax_version'], 'DellEMCIsilonOneFSOperatingSystem_isilon': ['xccdf_com.vce_value_isilon_version'], 'DellEMCIsilonNodeFirmwareforX410_isilon': ['xccdf_com.vce_value_isilon_version'], 'DellEMCIsilonNodeFirmwareforS210_isilon': ['xccdf_com.vce_value_isilon_version'], 'DellEMCIsilonNodeFirmwareforNL400_isilon': ['xccdf_com.vce_value_isilon_NL400_version'], 'DellEMCIsilonInfiniband_isilon': ['xccdf_com.vce_value_isilon_version'], 'DellEMCIsilonOneFSA200/A2000/F800/H400/H500/H600OperatingSystem': ['xccdf_com.vce_value_isilon_stor_version'], 'DellEMCXtremIOStorageArray': ['xccdf_com.vce_value_xio_version'], 'DellEMCXtremIO2StorageArray': ['xccdf_com.vce_value_xio2_version'], 'DellEMCScaleIOStorageArray': ['xccdf_com.vce_value_scaleio_version'], 'DellEMCUnity300/300F/400/400F/500/500F/600/600FOE': ['xccdf_com.vce_value_unity_version'], 'DellEMCUnity300/300F/350F/400/400F/450F/500/500F/550F/600/600F/650FOE': ['xccdf_com.vce_value_unity_version'], 'DellEMCUnity350F/450F/550F/650FOE': ['xccdf_com.vce_value_unity_version'], 'DellEMCUnity300OE': ['xccdf_com.vce_value_unity_amp_version'], 'DellEMCXtremIOStorageArray(XIOS)': ['xccdf_com.vce_value_xio_version'], 'DellEMCXtremIOManagementServer(XMS)': ['xccdf_com.vce_value_xio2_version'], 'DellEMCSymmetrixVMAX250F/250FX/450F/450FX/850F/850FX/950F/950FXwithPowerMaxOS': ['xccdf_com.vce_value_symmetrix_vmax_powermax_version'], 'DellEMCVPLEXGeoSynchrony': ['xccdf_com.vce_value_vplex_version'], 'DellEMCVPLEXVS2/VS6GeoSynchrony': ['xccdf_com.vce_value_vplex_version'], 'VMwareESX/ESXinenicDriverforCiscoUCS1340and1380VirtualInterfaceCards': ['xccdf_com.vce_value_nenic_driver_1240_1280_1340_1380_version'], 'VMwareESX/ESXinenicDriverforCiscoUCS1225and1227VirtualInterfaceCards': ['xccdf_com.vce_value_nenic_driver_1240_1280_1340_1380_version'], 'VMwareESX/ESXifnicDriverforCiscoUCS1340and1380VirtualInterfaceCards': ['xccdf_com.vce_value_fnic_driver_version'], 'VMwareESX/ESXifnicDriverforCiscoUCS1225and1227VirtualInterfaceCards': ['xccdf_com.vce_value_fnic_driver_version'], 'VMwareESX/ESXifnicDriverforCiscoUCS1385and1387VirtualInterfaceCards': ['xccdf_com.vce_value_fnic_driver_version'], 'VMwareESX/ESXinfnicDriverforCiscoUCS1457VirtualInterfaceCards': ['xccdf_com.vce_value_fnic_driver_version'], 'VMwareESX/ESXinenicDriverforCiscoUCS1385and1387VirtualInterfaceCards': ['xccdf_com.vce_value_nenic_driver_1240_1280_1340_1380_version'], 'VMwareESX/ESXinenicDriverforCiscoUCS1457VirtualInterfaceCards': ['xccdf_com.vce_value_nenic_driver_1240_1280_1340_1380_version'], 'VmwareESXiVMWfnicDriverforCiscoUCS1440and1480VirtualInterfaceCards(Obsoleteâ€“TrackingPurposesOnly)': ['xccdf_com.vce_value_fnic_driver_version'], 'VmwareESXiVMWfnicDriverforCiscoUCS1455and1457VirtualInterfaceCardsObsoleteâ€“TrackingPurposesOnly)': ['xccdf_com.vce_value_fnic_driver_version'], 'VMwareESXiVMWfnicDriverforCiscoUCS1340and1380VirtualInterfaceCardsObsoleteâ€“TrackingPurposesOnly)': ['xccdf_com.vce_value_fnic_driver_version'], 'VMwareESXiVMWfnicDriverforCiscoUCS1385and1387VirtualInterfaceCardsObsoleteâ€“TrackingPurposesOnly)': ['xccdf_com.vce_value_fnic_driver_version'], 'VMwareESXiVMWfnicDriverforCiscoUCS1227VIC(UCSmanagedC-SeriesServers)(Obsoleteâ€“TrackingPurposesOnly)': ['xccdf_com.vce_value_fnic_driver_version'], 'VMwareESXiVMWfnicDriverforCiscoUCS1240,1280,1340,and1380VICs(Obsoleteâ€“TrackingPurposesOnly)': ['xccdf_com.vce_value_fnic_driver_version'], 'VMwareESXiVMWfnicDriverforCiscoUCS1227VIC(Obsoleteâ€“TrackingPurposesOnly)': ['xccdf_com.vce_value_fnic_driver_version'], 'CiscoNexus93180YC-FXSwitch': ['xccdf_com.vce_value_nexus_93180YC-FX_version'], 'CiscoNexus93180LC-EXSwitch': ['xccdf_com.vce_value_nexus_93180LC-EX_version'], 'CiscoNexus3232CSwitch': ['xccdf_com.vce_value_nexus3232c_version'], 'CiscoNexus31108TC-VSwitch': ['xccdf_com.vce_value_nexus31108TC-V_version'], 'DellEMCDataDomain6300OperatingSystem': ['xccdf_com.vce_value_data_domain_virtual_version'], 'DellEMCDataDomain640,670,890,990,2200,2500,3300,4200,4500,6300,6800,7200,9300,9500,9800OperatingSystem': ['xccdf_com.vce_value_data_domain_version'], 'DellEMCDataDomain3300OperatingSystem': ['xccdf_com.vce_value_data_domain_virtual_version'], 'DellEMCDataDomain640,670,890,990,2200,2500,4200,4500,6800,7200,9300,9500,9800OperatingSystem': ['xccdf_com.vce_value_data_domain_virtual_version'], 'DellEMCDataDomain640,670,890,990,2200,2500,4200,4500,7200,9500OperatingSystem': ['xccdf_com.vce_value_data_domain_virtual_version'], 'DellEMCDataDomain640,670,890,990,2200,2500,4200,4500,and7200OperatingSystem': ['xccdf_com.vce_value_data_domain_virtual_version'], 'DellEMCDataDomain640,670,890,990,2500,4200,4500,and7200OperatingSystem': ['xccdf_com.vce_value_data_domain_virtual_version'], 'DellEMCDataDomain670,890,and990OperatingSystem': ['xccdf_com.vce_value_data_domain_virtual_version'], 'DellEMCDataDomain670and890OperatingSystem': ['xccdf_com.vce_value_data_domain_virtual_version'], 'DellEMCUnityXT380/380F/480/480F/680/680F/880/880FOE': ['xccdf_com.vce_value_unity_version'], 'DellEMCUnisphereforPowerMaxOS': ['xccdf_com.vce_value_unisphere_for_powermax_version'], 'CiscoRackMountServerFirmwareforC220M52ndGenIntelXeon': ['xccdf_com.vce_value_C220_M5_version', 'xccdf_com.vce_value_amp_C220_M5_version', 'xccdf_com.vce_value_amp_central_C220_M5_version'], 'CiscoRackMountServerFirmwareforC220M3w/E5-26xx': ['xccdf_com.vce_value_amp_C220_M3_version', 'xccdf_com.vce_value_C220_M3_version'], 'CiscoRackMountServerFirmwareforC220M3w/E5-26xxv2': ['xccdf_com.vce_value_amp_C220_M3_version', 'xccdf_com.vce_value_C220_M3_version'], 'CiscoRackMountServerFirmwareforC220M4w/E5-26xxv3': ['xccdf_com.vce_value_amp_C220_M4_version', 'xccdf_com.vce_value_C220_M4_version'], 'CiscoRackMountServerFirmwareforC220M4w/E5-26xxv4': ['xccdf_com.vce_value_amp_C220_M4_version', 'xccdf_com.vce_value_C220_M4_version'], 'CiscoRackMountServerFirmwareforC220M5IntelXeon': ['xccdf_com.vce_value_C220_M5_version', 'xccdf_com.vce_value_amp_C220_M5_version'], 'CiscoNexus5548UPSwitch': ['xccdf_com.vce_value_nexus_55xx_version'], 'VMwareESXinenicDriverforCiscoUCS1225VIC': ['xccdf_com.vce_value_nenic_driver_1225_VIC_version'], 'VMwareESXinenicDriverforCiscoUCS1457VIC': ['xccdf_com.vce_value_nenic_driver_1457_VIC_version'], 'DellEMCUnisphere,ThinProvisioning': ['xccdf_com.vce_value_vnx_fast_vp_version'], 'DellEMCVNXFASTCache': ['xccdf_com.vce_value_vnx_fast_cache_version'], 'DellEMCVNXFASTVP': ['xccdf_com.vce_value_vnx_fast_vp_version'], 'VMwareESXifnicDriverforCiscoUCS1227VIC': ['xccdf_com.vce_value_fnic_driver_1227_VIC_version'], 'VMwareESXinfnicDriverforCiscoUCS1225VIC': ['xccdf_com.vce_value_nfnic_1225_vic_driver_version'], 'VMwareESXinfnicDriverforCiscoUCS1457VIC': ['xccdf_com.vce_value_nfnic_driver_1457_VIC_version'], 'VMwarevSphereHypervisorESXi6.7(EnterpriseEdition)forCiscoC-SeriesServer': ['xccdf_com.vce_value_esxi_version', 'xccdf_com.vce_value_esxi_build'], 'CiscoUCS1227VirtualInterfaceCards': ['xccdf_com.vce_value_M81KR_version'], 'CiscoBladeServerFirmwareforB200M3w/E5-26xx': ['xccdf_com.vce_value_b200_m3_software_version'], 'CiscoBladeServerFirmwareforB200M3w/E5-26xxv2': ['xccdf_com.vce_value_b200_m3_software_version'], 'CiscoBladeServerFirmwareforB200M4w/E5-26xxv3': ['xccdf_com.vce_value_b200_m4_software_version'], 'CiscoBladeServerFirmwareforB200M4w/E5-26xxv4': ['xccdf_com.vce_value_b200_m4_software_version'], 'CiscoBladeServerFirmwareforB200M5IntelXeon': ['xccdf_com.vce_value_b200_m5_software_version'], 'CiscoBladeServerFirmwareforB22M3w/E5-24xx': ['xccdf_com.vce_value_b22_m3_software_version'], 'CiscoBladeServerFirmwareforB22M3w/E5-24xxv2': ['xccdf_com.vce_value_b22_m3_software_version'], 'CiscoBladeServerFirmwareforB260M4w/E7-28xxv2': ['xccdf_com.vce_value_b260_m4_software_version'], 'CiscoBladeServerFirmwareforB260M4w/E7-48xxv2': ['xccdf_com.vce_value_b260_m4_software_version'], 'CiscoBladeServerFirmwareforB260M4w/E7-48xxv3': ['xccdf_com.vce_value_b260_m4_software_version'], 'CiscoBladeServerFirmwareforB260M4w/E7-48xxv4': ['xccdf_com.vce_value_b260_m4_software_version'], 'CiscoBladeServerFirmwareforB260M4w/E7-88xxv2': ['xccdf_com.vce_value_b260_m4_software_version'], 'CiscoBladeServerFirmwareforB260M4w/E7-88xxv3': ['xccdf_com.vce_value_b260_m4_software_version'], 'CiscoBladeServerFirmwareforB260M4w/E7-88xxv4': ['xccdf_com.vce_value_b260_m4_software_version'], 'CiscoBladeServerFirmwareforB420M3w/E5-46xx': ['xccdf_com.vce_value_b420_m3_software_version'], 'CiscoBladeServerFirmwareforB420M3w/E5-46xxv2': ['xccdf_com.vce_value_b420_m3_software_version'], 'CiscoBladeServerFirmwareforB420M4w/E5-46xxv3': ['xccdf_com.vce_value_b420_m4_software_version'], 'CiscoBladeServerFirmwareforB420M4w/E5-46xxv4': ['xccdf_com.vce_value_b420_m4_software_version'], 'CiscoBladeServerFirmwareforB460M4w/E7-48xxv2': ['xccdf_com.vce_value_b260_m4_software_version'], 'CiscoBladeServerFirmwareforB460M4w/E7-48xxv3': ['xccdf_com.vce_value_b260_m4_software_version'], 'CiscoBladeServerFirmwareforB460M4w/E7-48xxv4': ['xccdf_com.vce_value_b260_m4_software_version'], 'CiscoBladeServerFirmwareforB460M4w/E7-88xxv2': ['xccdf_com.vce_value_b260_m4_software_version'], 'CiscoBladeServerFirmwareforB460M4w/E7-88xxv3': ['xccdf_com.vce_value_b260_m4_software_version'], 'CiscoBladeServerFirmwareforB460M4w/E7-88xxv4': ['xccdf_com.vce_value_b260_m4_software_version'], 'CiscoBladeServerFirmwareforB480M5IntelXeon': ['xccdf_com.vce_value_b480_m5_software_version'], 'VMwarevCenterServerAppliance(DeployedasPSC)': ['xccdf_com.vce_value_vcenter_version'], 'CiscoUCS1240,1280,1340,and1380VirtualInterfaceCards': ['xccdf_com.vce_value_M81KR_version'], 'CiscoBladeServerFirmwareforB200M52ndGenIntelXeon': ['xccdf_com.vce_value_b200_m5_software_version'], 'CiscoBladeServerFirmwareforB480M52ndGenIntelXeon': ['xccdf_com.vce_value_b480_m5_software_version'], 'CiscoRackMountServerFirmwareforC240M4w/E5-266v4': ['xccdf_com.vce_value_C240_M4_version'], 'CiscoRackMountServerFirmwareforC240M4w/E5-26xxv3': ['xccdf_com.vce_value_C240_M4_version'], 'CiscoRackMountServerFirmwareforC240M4w/E5-26xxv4': ['xccdf_com.vce_value_C240_M4_version', 'xccdf_com.vce_value_amp_C240_M4_version'], 'VMwareESXifnicDriverforCiscoUCS1457VIC': ['xccdf_com.vce_value_fnic_driver_1457_VIC_version'], 'CiscoBladeServerFirmwareforB200M3v2': ['xccdf_com.vce_value_b200_m3_software_version'], 'CiscoBladeServerFirmwareforB200M4': ['xccdf_com.vce_value_b200_m4_software_version'], 'CiscoBladeServerFirmwareforB200M4v2': ['xccdf_com.vce_value_b200_m4_software_version'], 'CiscoBladeServerFirmwareforB200M4v3': ['xccdf_com.vce_value_b200_m4_software_version'], 'CiscoBladeServerFirmwareforB200M4v4': ['xccdf_com.vce_value_b200_m4_software_version'], 'CiscoRackMountServerFirmwareforC240M52ndGenIntelXeon': ['xccdf_com.vce_value_c240_m5_software_version'], 'CiscoRackMountServerFirmwareforC240M52ndGenIntelXeon_TECHEXT': ['xccdf_com.vce_value_c240_m5_software_version'], 'CiscoRackMountServerFirmwareforC480M52ndGenIntelXeon': ['xccdf_com.vce_value_C480_M5_version'], 'CiscoRackMountServerFirmwareforC480M52ndGenIntelXeon_TECHEXT': ['xccdf_com.vce_value_C480_M5_version'], 'CiscoRackMountServerFirmwareforC240M5IntelXeon': ['xccdf_com.vce_value_c240_m5_software_version'], 'CiscoRackMountServerFirmwareforC480M5IntelXeon': ['xccdf_com.vce_value_C480_M5_version'], 'CiscoNexus2348UPQFabricExtender': ['xccdf_com.vce_value_ucsm_version'], 'VMwareESXifnicDriverforCiscoUCS1340and1380VIC': ['xccdf_com.vce_value_nfnic_driver_version'], 'VMwareESXifnicDriverforCiscoUCS1385and1387VIC': ['xccdf_com.vce_value_nfnic_driver_version'], 'VMwareESXifnicDriverforCiscoUCS1440and1480VIC': ['xccdf_com.vce_value_nfnic_driver_version'], 'VMwareESXifnicDriverforCiscoUCS1455and1457VIC': ['xccdf_com.vce_value_nfnic_driver_version'], 'VMwareESXifnicDriverforCiscoUCS1457VIC(AMPC-seriesM5server)': ['xccdf_com.vce_value_nfnic_driver_version'], 'VmwareESXifnicDriverforCiscoUCS1495and1497VIC': ['xccdf_com.vce_value_nfnic_driver_version'], 'VMwareESXinenicDriverforCiscoUCS1340and1380VIC': ['xccdf_com.vce_value_nenic_driver_1240_1280_1340_1380_version'], 'VMwareESXinenicDriverforCiscoUCS1385and1387VIC': ['xccdf_com.vce_value_nenic_driver_1240_1280_1340_1380_version'], 'VMwareESXinenicDriverforCiscoUCS1440and1480VIC': ['xccdf_com.vce_value_nenic_driver_1240_1280_1340_1380_version'], 'VMwareESXinenicDriverforCiscoUCS1455and1457VIC': ['xccdf_com.vce_value_nenic_driver_1240_1280_1340_1380_version'], 'VMwareESXinenicDriverforCiscoUCS1457VIC(AMPC-seriesM5server)': ['xccdf_com.vce_value_nenic_driver_1240_1280_1340_1380_version'], 'VmwareESXinenicDriverforCiscoUCS1495and1497VIC': ['xccdf_com.vce_value_nenic_driver_1240_1280_1340_1380_version'], 'DellEMCXtremIO2ManagementServer(XMS)': ['xccdf_com.vce_value_xio2_version'], 'VMwarevSphereDistributedSwitch': ['xccdf_com.vce_value_vmware_vsphere_distributed_switch_version'], 'VMwareESXinfnicDriverforCiscoUCS1340and1380VIC': ['xccdf_com.vce_value_nfnic_driver_UCS_1457_version'], 'VMwareESXinfnicDriverforCiscoUCS1385and1387VIC': ['xccdf_com.vce_value_nfnic_driver_UCS_1457_version'], 'VMwareESXinfnicDriverforCiscoUCS1440and1480VIC': ['xccdf_com.vce_value_nfnic_driver_UCS_1457_version'], 'VMwareESXinfnicDriverforCiscoUCS1455and1457VIC': ['xccdf_com.vce_value_nfnic_driver_UCS_1457_version'], 'VMwareESXinfnicDriverforCiscoUCS1457VIC(AMPC-seriesM5server)': ['xccdf_com.vce_value_nfnic_driver_UCS_1457_version'], 'VmwareESXinfnicDriverforCiscoUCS1495and1497VIC': ['xccdf_com.vce_value_nfnic_driver_UCS_1457_version'], 'VMwareESXifnicDriverforCiscoUCS1240,1280,1340,1380and1387VICs': ['xccdf_com.vce_value_nfnic_driver_version'], 'CiscoBladeServerFirmwareforB22M3v2': ['xccdf_com.vce_value_b22_m3_software_version'], 'CiscoBladeServerFirmwareforB260M4': ['xccdf_com.vce_value_b260_m4_software_version'], 'CiscoBladeServerFirmwareforB260M4v2': ['xccdf_com.vce_value_b260_m4_software_version'], 'CiscoBladeServerFirmwareforB260M4v3': ['xccdf_com.vce_value_b260_m4_software_version'], 'CiscoBladeServerFirmwareforB260M4v4': ['xccdf_com.vce_value_b260_m4_software_version'], 'CiscoBladeServerFirmwareforB420M3v2': ['xccdf_com.vce_value_b420_m3_software_version'], 'CiscoBladeServerFirmwareforB420M3v3': ['xccdf_com.vce_value_b420_m3_software_version'], 'CiscoBladeServerFirmwareforB420M3v4': ['xccdf_com.vce_value_b420_m3_software_version'], 'CiscoBladeServerFirmwareforB460M4': ['xccdf_com.vce_value_b260_m4_software_version'], 'CiscoBladeServerFirmwareforB460M4v2': ['xccdf_com.vce_value_b260_m4_software_version'], 'CiscoBladeServerFirmwareforB460M4v3': ['xccdf_com.vce_value_b260_m4_software_version'], 'CiscoBladeServerFirmwareforB460M4v4': ['xccdf_com.vce_value_b260_m4_software_version'], 'VMwareESXifnicDriverforCiscoUCS1457VIC(C-seriesServersM5)': ['xccdf_com.vce_value_fnic_1457_VIC_CSeries_driver_version'], 'CiscoRackMountServerFirmwareforC220M3v2': ['xccdf_com.vce_value_amp_C220_M3_version'], 'VMwarevSphereHypervisorESXi6.0(EnterpriseEdition)forCiscoC-SeriesServer': ['xccdf_com.vce_value_esxi_version', 'xccdf_com.vce_value_esxi_build'], 'VMwareESXifnicDriverforCiscoUCS1340and1380VICs': ['xccdf_com.vce_value_nfnic_driver_version'], 'VMwarevSphereHypervisorESXi6.0(EnterpriseEdition)forC-SeriesServers': ['xccdf_com.vce_value_esxi_version', 'xccdf_com.vce_value_esxi_build'], 'CiscoRackMountServerFirmwareforC220M4v3': ['xccdf_com.vce_value_C220_M4_version', 'xccdf_com.vce_value_amp_C220_M4_version'], 'VMwareESXinenicDriverforCiscoUCS1457VIC(C-seriesServersM5)': ['xccdf_com.vce_value_nenic_driver_1457_VIC_version'], 'VMwareESXinenicDriverforCiscoUCS1227VIC(C-seriesServersM4)': ['xccdf_com.vce_value_nenic_driver_1227_VIC_version'], 'VMwareESXinenicDriverforCiscoUCS1225VIC(C-seriesServersM3)': ['xccdf_com.vce_value_nenic_driver_1225_VIC_version'], 'VMwareESXifnicDriverforCiscoUCS1227VIC(C-seriesServersM4)': ['xccdf_com.vce_value_nfnic_driver_version'], 'VMwareESXifnicDriverforCiscoUCS1225VIC(C-seriesServersM3)': ['xccdf_com.vce_value_fnic_driver_version'], 'CiscoRackMountServerFirmwareforC240M3w/E5-26xxv2': ['xccdf_com.vce_value_amp_C240_M3_version'], 'VMwareESXifnicDriverforCiscoUCS1225VIC(forC-SeriesM3)': ['xccdf_com.vce_value_fnic_1457_VIC_CSeries_driver_version'], 'VMwareESXinenicDriverforCiscoUCS1225VIC(forC-SeriesM3)': ['xccdf_com.vce_value_nenic_driver_1240_1280_1340_1380_version'], 'CiscoNexus7010SwitchSupervisor2module': ['xccdf_com.vce_value_nexus_7010_version'], 'DellEMCSymmetrixVMAX/VMAXeArray(WindowsXP)': ['xccdf_com.vce_value_symmetrix_vmax_windowsXP_version'], 'DellEMCSymmetrixVMAX/VMAXeArray(Windows7)': ['xccdf_com.vce_value_symmetrix_vmax_version'], 'CiscoCatalyst3560X-24T-L': ['xccdf_com.vce_value_catalyst_3750_switch_version'], 'CiscoRackMountServerFirmwareforC240SFF/LFFM4w/E5-26xxv4': ['xccdf_com.vce_value_C240_M4_version'], 'CiscoUCS1340and1380VirtualInterfaceCards': ['xccdf_com.vce_value_ucsm_version'], 'CiscoUCS1385and1387VirtualInterfaceCards': ['xccdf_com.vce_value_ucsm_version'], 'CiscoUCS1440and1480VirtualInterfaceCards': ['xccdf_com.vce_value_ucsm_version'], 'CiscoUCS1455and1457VirtualInterfaceCards': ['xccdf_com.vce_value_ucsm_version'], 'CiscoUCS1495and1497VirtualInterfaceCards': ['xccdf_com.vce_value_ucsm_version'], 'CiscoRackMountServerFirmwareforC220SFF/LFFM4w/E5-26xxv4': ['xccdf_com.vce_value_amp_C220_M4_version', 'xccdf_com.vce_value_C220_M4_version'], 'VMwarevSphereHypervisorESXi6.7': ['xccdf_com.vce_value_esxi_version', 'xccdf_com.vce_value_esxi_build'], 'VMwareESXifnicDriverforCiscoUCS1240and1280VICs': ['xccdf_com.vce_value_fnic_1240_1280_driver_version'], 'DellEMCIsilonOneFSA200/A2000/F800/F810/H400/H500/H5600/H600OperatingSystem': ['xccdf_com.vce_value_isilon_stor_version'], 'DellEMCDataDomain3300,6300,6800,6900,9300,9400,9800,9900OperatingSystem': ['xccdf_com.vce_value_data_domain_virtual_version'], 'CiscoUCSFabricInterconnect6454andCiscoUCSBladeServerChassis5108with2400I/Omodules': ['xccdf_com.vce_value_chassis40g_iom_version'], 'VMwarevCenterServer': ['xccdf_com.vce_value_vcenter_version'], 'VMwarevSphereClient': ['xccdf_com.vce_value_vcenter_version'], 'VMwareNSX-TforvSphere': ['xccdf_com.vce_value_nsxt_switch_version'], 'VMwareESXinfnicDriverforCiscoUCS1225VIC(C-seriesServersM3)': ['xccdf_com.vce_value_nfnic_1225_vic_driver_version'], 'VMwareESXinenicDriverforCiscoUCS1240,1280,1340,and1380VICs(ForM4andM5)': ['xccdf_com.vce_value_nenic_driver_1227_VIC_version'], 'VMwareESXinenicDriverforCiscoUCS1385and1387VIC_TECHEXT': ['xccdf_com.vce_value_nenic_driver_1457_VIC_version'], 'VMwareESXinenicDriverforCiscoUCS1455and1457VIC_TECHEXT': ['xccdf_com.vce_value_nenic_driver_1457_VIC_version'], 'VmwareESXinenicDriverforCiscoUCS1495and1497VIC_TECHEXT': ['xccdf_com.vce_value_nenic_driver_1457_VIC_version'], 'VMwareESXinfnicDriverforCiscoUCS1385and1387VIC_TECHEXT': ['xccdf_com.vce_value_nfnic_driver_UCS_1457_version'], 'VMwareESXinfnicDriverforCiscoUCS1455and1457VIC_TECHEXT': ['xccdf_com.vce_value_nfnic_driver_UCS_1457_version'], 'VmwareESXinfnicDriverforCiscoUCS1495and1497VIC_TECHEXT': ['xccdf_com.vce_value_nfnic_driver_UCS_1457_version'], 'VMwareESXinfnicDriverforCiscoUCS1240,1280,1340,and1380VICs(ForM4andM5)': ['xccdf_com.vce_value_nfnic_driver_version'], 'VMwareESXinenicDriverforCiscoUCS1240,1280,1340,1380and1387VICs(ForM4andM5)': ['xccdf_com.vce_value_nenic_driver_1240_1280_1340_1380_version'], 'VMwareESXinenicDriverforCiscoUCS1225VIC(ForM4/M5)': ['xccdf_com.vce_value_nenic_driver_1227_VIC_version'], 'VMwareESXinfnicDriverforCiscoUCS1225VIC(ForM4/M5)': ['xccdf_com.vce_value_nfnic_driver_1457_VIC_version'], 'VMwareESXifnicDriverforCiscoUCS1385and1387VIC_TECHEXT': ['xccdf_com.vce_value_fnic_driver_1227_VIC_version'], 'VmwareESXifnicDriverforCiscoUCS1495and1497VIC_TECHEXT': ['xccdf_com.vce_value_fnic_driver_1227_VIC_version'], 'VMwareESXifnicDriverforCiscoUCS1455and1457VIC_TECHEXT': ['xccdf_com.vce_value_fnic_driver_1227_VIC_version'], 'VMwareESXinfnicDriverforCiscoUCS1387VIC': ['xccdf_com.vce_value_nfnic_driver_1457_VIC_version'], 'VMwareESXinfnicDriverforCiscoUCS1240,1280,1340and1380VICs': ['xccdf_com.vce_value_nfnic_driver_1457_VIC_version'], 'VMwareESXinenicDriverforCiscoUCS1387VIC': ['xccdf_com.vce_value_nenic_driver_1457_VIC_version'], 'CiscoRackMountServerFirmwareforC220M4w/E5-26xxv3_TECHEXT': ['xccdf_com.vce_value_C220_M4_version'], 'CiscoRackMountServerFirmwareforC220M4w/E5-26xxv4_TECHEXT': ['xccdf_com.vce_value_C220_M4_version'], 'VMwareESXinenicDriverforCiscoUCS1227VIC_TECHEXT': ['xccdf_com.vce_value_nenic_driver_1227_VIC_version'], 'VMwareESXinfnicDriverforCiscoUCS1227VIC_TECHEXT': ['xccdf_com.vce_value_fnic_driver_version'], 'CiscoMDS9706-V2Switch': ['xccdf_com.vce_value_mds_9706_version'], 'CiscoMDS9710-V2Switch': ['xccdf_com.vce_value_mds_9710_version'], 'DellEMCAvamarGen4S/4TDataStoreClientSoftware': ['xccdf_com.vce_value_avamar_version'], 'DellEMCPowerPath/VEforVMware': ['xccdf_com.vce_value_powerpath_version']}]\n",
      "a\n"
     ]
    }
   ],
   "source": [
    "import json\n",
    "import re\n",
    "from json_minify import json_minify\n",
    "with open(\"C://Users//sn3//Desktop//RCM July20//configuration.json\",'r') as f:\n",
    "        data_read = f.read()\n",
    "mini_json = json_minify(data_read)\n",
    "config_json = json.loads(mini_json)\n",
    "print(config_json[\"valueMap\"])\n",
    "print(\"a\")"
   ]
  },
  {
   "cell_type": "code",
   "execution_count": 2,
   "metadata": {},
   "outputs": [
    {
     "name": "stdout",
     "output_type": "stream",
     "text": [
      "q\n"
     ]
    }
   ],
   "source": [
    "print(\"q\")"
   ]
  },
  {
   "cell_type": "code",
   "execution_count": null,
   "metadata": {},
   "outputs": [],
   "source": []
  }
 ],
 "metadata": {
  "kernelspec": {
   "display_name": "Python 3",
   "language": "python",
   "name": "python3"
  },
  "language_info": {
   "codemirror_mode": {
    "name": "ipython",
    "version": 3
   },
   "file_extension": ".py",
   "mimetype": "text/x-python",
   "name": "python",
   "nbconvert_exporter": "python",
   "pygments_lexer": "ipython3",
   "version": "3.7.7"
  }
 },
 "nbformat": 4,
 "nbformat_minor": 4
}
